{
 "cells": [
  {
   "cell_type": "markdown",
   "metadata": {},
   "source": [
    "### Sorting a Stack using recursion by using only push and pop and no other data structure"
   ]
  },
  {
   "cell_type": "code",
   "execution_count": 11,
   "metadata": {},
   "outputs": [
    {
     "name": "stdout",
     "output_type": "stream",
     "text": [
      "1 2 3 3 45 6 5 4 33 23 4\n",
      "[1, 2, 3, 3, 4, 4, 5, 6, 23, 33, 45]\n"
     ]
    }
   ],
   "source": [
    "def sort(lis):\n",
    "\ttemp = 0\n",
    "\tif len(lis) != 0:\n",
    "\t\ttemp = lis.pop(-1)\n",
    "\t\tsort(lis)\n",
    "\t\tsorted_insert(lis, temp)\n",
    "\t\t\n",
    "def sorted_insert(lis, temp):\n",
    "\tif len(lis) ==0 or temp > lis[-1] :\n",
    "\t\tlis.append(temp)\n",
    "\t\treturn\n",
    "\t\n",
    "\tt = lis.pop(-1)\n",
    "\tsorted_insert(lis, temp)\n",
    "\tlis.append(t)\n",
    "\t\n",
    "\t\t\n",
    "\t\t\n",
    "\n",
    "lis = []\n",
    "#n = int(input(\"No. of elements you going to enter: \"))\n",
    "#lis = [int(input()) for i in range(n)]\n",
    "lis =  [int(x) for x in input().split(\" \")]\n",
    "sort(lis)\n",
    "print(lis)"
   ]
  },
  {
   "cell_type": "markdown",
   "metadata": {},
   "source": [
    "### Selection Sort"
   ]
  },
  {
   "cell_type": "code",
   "execution_count": 15,
   "metadata": {},
   "outputs": [
    {
     "name": "stdout",
     "output_type": "stream",
     "text": [
      "[2, 3, 4, 5, 6, 8]\n"
     ]
    }
   ],
   "source": [
    "def selection_sort(arr):\n",
    "    # starting from i=0, you will find the (i+1)th smallest element in the whole array and swap it with a[i]\n",
    "    #starting from j,k = 0, if a[j] < a[k] then k=j else j++\n",
    "    for i in range(len(arr)):\n",
    "        k = i\n",
    "        for j in range(i,len(arr)):\n",
    "            if arr[j] < arr[k]:\n",
    "                k = j\n",
    "        temp = arr[i]\n",
    "        arr[i] = arr[k]\n",
    "        arr[k] = temp\n",
    "    \n",
    "arr = [8,6,3,2,5,4]\n",
    "selection_sort(arr)\n",
    "print(arr)"
   ]
  },
  {
   "cell_type": "markdown",
   "metadata": {},
   "source": [
    "### Quick Sort(Divide and Conquer) (Avg and Best Case: O(nlogn)) (Worst Case: O(n^2) )\n",
    "Worst Case: When array is already sorted or fully unsorted i.e in descending order\n",
    "#Best : After each partition the array splits in half\n"
   ]
  },
  {
   "cell_type": "code",
   "execution_count": 10,
   "metadata": {},
   "outputs": [
    {
     "name": "stdout",
     "output_type": "stream",
     "text": [
      "[10, 20, 40, 50, 60, 70, 30, 80, 90, 9223372036854775807]\n"
     ]
    }
   ],
   "source": [
    "def swap(ar,i,j):\n",
    "    temp = ar[i]\n",
    "    ar[i] = ar[j]\n",
    "    ar[j] = temp\n",
    "\n",
    "def partition(ar,low,high):\n",
    "     if low < high:\n",
    "        i = low\n",
    "        j = high\n",
    "        pivot = low\n",
    "        while i<j:\n",
    "            while ar[i] <= ar[pivot]:\n",
    "                i+=1\n",
    "            while ar[j] > ar[pivot]:\n",
    "                j-=1\n",
    "            if(i < j):\n",
    "                swap(ar,i,j)\n",
    "        swap(ar,j,pivot)\n",
    "        return j\n",
    "    \n",
    "def QuickSort(ar,low,high):\n",
    "    if low < high:\n",
    "        pivot = partition(ar,low,high)\n",
    "        QuickSort(ar,low,pivot)\n",
    "        QuickSort(ar,pivot+1,high)\n",
    "        \n",
    "import sys\n",
    "ar = [50,70,60,90,40,80,10,20,30,sys.maxsize]\n",
    "QuickSort(ar,0,len(ar)-1)\n",
    "print(ar)\n",
    "\n"
   ]
  },
  {
   "cell_type": "markdown",
   "metadata": {},
   "source": [
    "### Merge Sort(O(nlogn))  (divide and conquer)"
   ]
  },
  {
   "cell_type": "code",
   "execution_count": 7,
   "metadata": {},
   "outputs": [
    {
     "name": "stdout",
     "output_type": "stream",
     "text": [
      "[10, 20, 30, 40, 50, 60, 70, 80, 90]\n"
     ]
    }
   ],
   "source": [
    "def MergeSort(ar, low, high):\n",
    "    if low < high:\n",
    "        mid = int(low + (high - low) / 2)\n",
    "        MergeSort(ar, low, mid)\n",
    "        MergeSort(ar, mid + 1, high)\n",
    "        Merge(ar, low, mid, high)\n",
    "\n",
    "\n",
    "def Merge(ar, low, mid, high):\n",
    "    result_arr = []\n",
    "    i = low\n",
    "    j = mid + 1\n",
    "    while i <= mid and j <= high:\n",
    "        if ar[i] > ar[j]:\n",
    "            result_arr.append(ar[j])\n",
    "            j += 1\n",
    "        else:\n",
    "            result_arr.append(ar[i])\n",
    "            i += 1\n",
    "    while i <= mid: \n",
    "        result_arr.append(ar[i])\n",
    "        i += 1\n",
    "    while j <= high:\n",
    "        result_arr.append(ar[j])\n",
    "        j += 1\n",
    "    for i in range(low, high+1):\n",
    "        ar[i] = result_arr[i - low]\n",
    "\n",
    "\n",
    "ar = [50, 70, 60, 90, 40, 80, 10, 20, 30]\n",
    "MergeSort(ar, 0, len(ar) - 1)\n",
    "print(ar)"
   ]
  },
  {
   "cell_type": "markdown",
   "metadata": {},
   "source": [
    "### Shell Sort O(nlogn)"
   ]
  },
  {
   "cell_type": "code",
   "execution_count": 1,
   "metadata": {},
   "outputs": [
    {
     "name": "stdout",
     "output_type": "stream",
     "text": [
      "[2, 3, 4, 5, 6, 8, 9, 10, 12, 13, 16]\n"
     ]
    }
   ],
   "source": [
    "def shell_sort(ar, size):\n",
    "    gap = int(size / 2)\n",
    "    while gap > 0:\n",
    "        for j in range(gap, size):\n",
    "            i = (j - gap)\n",
    "            while i >= 0 and ar[i] > ar[i + gap]:\n",
    "                swap(ar, i, i + gap)\n",
    "                i = i - gap\n",
    "        gap = int(gap / 2)\n",
    "\n",
    "\n",
    "def swap(arr, i, j):\n",
    "    temp = arr[i]\n",
    "    arr[i] = arr[j]\n",
    "    arr[j] = temp\n",
    "\n",
    "\n",
    "arr = [9, 5, 16, 8, 13, 6, 12, 10, 4, 2, 3]\n",
    "shell_sort(arr, len(arr))\n",
    "print(arr)\n"
   ]
  },
  {
   "cell_type": "code",
   "execution_count": null,
   "metadata": {},
   "outputs": [],
   "source": [
    "# Refer Heap Sort from Heaps Notebook"
   ]
  }
 ],
 "metadata": {
  "kernelspec": {
   "display_name": "Python 3",
   "language": "python",
   "name": "python3"
  },
  "language_info": {
   "codemirror_mode": {
    "name": "ipython",
    "version": 3
   },
   "file_extension": ".py",
   "mimetype": "text/x-python",
   "name": "python",
   "nbconvert_exporter": "python",
   "pygments_lexer": "ipython3",
   "version": "3.11.6"
  }
 },
 "nbformat": 4,
 "nbformat_minor": 4
}
