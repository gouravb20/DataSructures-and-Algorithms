{
 "cells": [
  {
   "cell_type": "markdown",
   "metadata": {},
   "source": [
    "#### Rolling Hash"
   ]
  },
  {
   "cell_type": "code",
   "execution_count": null,
   "metadata": {},
   "outputs": [],
   "source": [
    "from functools import reduce\n",
    "M = 1<<63 - 1\n",
    "B = 131\n",
    "\n",
    "# def mod(a,b): # we dont need this function in python, we need it in other languages\n",
    "#     return ((a%b)+b)%b\n",
    "\n",
    "def RollingHash(text: str) -> int:\n",
    "    n = len(text)\n",
    "    B = 31\n",
    "    M = 10**9 + 9\n",
    "    E = (B**n)%M\n",
    "\n",
    "    # Id should never be 0 or negative, always > 0\n",
    "    def id(c):\n",
    "        return ord(c) - ord('a') + 1\n",
    "\n",
    "    # Precalculate hashes of all prefixes and then we can get hash of any substring in O(1)\n",
    "    hashes = [0]\n",
    "    powers = [1]\n",
    "    for x in text:\n",
    "        hashes.append((hashes[-1]*B + id(x))%M)\n",
    "        powers.append((powers[-1]*B)%M)\n",
    "\n",
    "    # O(1) function to calculate hash of substring\n",
    "    # [l, r)  --> r is exclusive\n",
    "    def hash(l, r):\n",
    "        return ((hashes[r] - hashes[l]*powers[r-l])*E)%M\n",
    "    \n",
    "    # shortcut to calculate hash of whole string\n",
    "    def hashString(s):\n",
    "        return reduce(lambda x,y: (x*B  + y)%M, s, 0)\n",
    "    "
   ]
  },
  {
   "cell_type": "markdown",
   "metadata": {},
   "source": [
    "#### KMP Algorithm"
   ]
  },
  {
   "cell_type": "code",
   "execution_count": 4,
   "metadata": {},
   "outputs": [
    {
     "name": "stdout",
     "output_type": "stream",
     "text": [
      "True\n"
     ]
    }
   ],
   "source": [
    "s = \"ababacabcabababacd\"\n",
    "p = \"ababac\"\n",
    "\n",
    "def createLps(p):\n",
    "    m= len(p)\n",
    "    lps = [0]*m\n",
    "    for i in range(1,m):\n",
    "        j = lps[i-1]\n",
    "        while j>0 and p[i]!=p[j]:\n",
    "            j = lps[j-1]\n",
    "        lps[i] = j + (p[i]==p[j])\n",
    "    return lps\n",
    "\n",
    "def match(s, p):\n",
    "    return len(p) in createLps(p + \"#\" + s)\n",
    "\n",
    "print(match(s, p))"
   ]
  },
  {
   "cell_type": "markdown",
   "metadata": {},
   "source": [
    "#### Z function\n",
    "Suppose we are given a string $s$ of length $n$. The **Z-function** for this string is an array of length $n$ where the $i$-th element is equal to the greatest number of characters starting from the position $i$ that coincide with the first characters of $s$.\n",
    "\n",
    "In other words, $z[i]$ is the length of the longest string that is, at the same time, a prefix of $s$ and a prefix of the suffix of $s$ starting at $i$."
   ]
  },
  {
   "cell_type": "code",
   "execution_count": 2,
   "metadata": {},
   "outputs": [],
   "source": [
    "# can be used for pattern matching\n",
    "def z_function(s):\n",
    "    n = len(s)\n",
    "    z = [0]*n\n",
    "    l=r=0\n",
    "    for i in range(1,n):\n",
    "        if i<=r:\n",
    "            z[i] = min(z[i-l], r-i+1)\n",
    "        while i+z[i] < n and s[i+z[i]] == s[z[i]]:\n",
    "            z[i]+=1\n",
    "        if i+z[i]-1>r:\n",
    "            l,r = i, i+z[i]-1\n",
    "    return z\n",
    "\n",
    "        \n"
   ]
  },
  {
   "cell_type": "code",
   "execution_count": null,
   "metadata": {},
   "outputs": [],
   "source": []
  }
 ],
 "metadata": {
  "kernelspec": {
   "display_name": "Python 3.9.6 64-bit",
   "language": "python",
   "name": "python3"
  },
  "language_info": {
   "codemirror_mode": {
    "name": "ipython",
    "version": 3
   },
   "file_extension": ".py",
   "mimetype": "text/x-python",
   "name": "python",
   "nbconvert_exporter": "python",
   "pygments_lexer": "ipython3",
   "version": "3.12.2"
  },
  "vscode": {
   "interpreter": {
    "hash": "f9e5edc7c461bb44eb923f36908afa42d01f043a516f5f4ab0b7ca4f5e5b5da8"
   }
  }
 },
 "nbformat": 4,
 "nbformat_minor": 4
}
