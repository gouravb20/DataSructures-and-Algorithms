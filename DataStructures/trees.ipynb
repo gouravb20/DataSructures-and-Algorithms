{
 "cells": [
  {
   "cell_type": "markdown",
   "metadata": {},
   "source": [
    "### Important Problems"
   ]
  },
  {
   "cell_type": "markdown",
   "metadata": {},
   "source": [
    "Problem-11 : Finding height of Tree  **Without** using Recursion.  \n",
    "We use LevelOrderTraversal also called BFS."
   ]
  },
  {
   "cell_type": "markdown",
   "metadata": {},
   "source": [
    "Problem-12,13,15,16,19  are solved using LevelOrderTraversaL(Without Recursion)"
   ]
  },
  {
   "cell_type": "markdown",
   "metadata": {},
   "source": [
    "#### Problem - 18 : (Time O(n^2))"
   ]
  },
  {
   "cell_type": "code",
   "execution_count": 2,
   "metadata": {},
   "outputs": [],
   "source": [
    "# To find Diameter(Width) of a Binary Tree  \n",
    "# Diamtere of a Binary tree is the longest leaf to leaf path\n",
    "# Reference GeeksforGeeks\n",
    "# code not runnable\n",
    "class node:\n",
    "    __init__(self, data, left, right):\n",
    "        self.data = data\n",
    "        self.left = left\n",
    "        self.right = right\n",
    "    \n",
    "\n",
    "def diameter(root):\n",
    "    if root==NULL:\n",
    "        return 0\n",
    "    return max(diameter(root.left()), diameter(root.left()), height(root.right()) + height(root.left()) + 1)\n",
    "\n",
    "def height(root):\n",
    "    if root==NULL:\n",
    "        return 0\n",
    "    return 1 + max(height(root.left()), height(root.right()))"
   ]
  },
  {
   "cell_type": "markdown",
   "metadata": {},
   "source": [
    "#### Problem - 18 : (Time O(n)) (Space O(n))"
   ]
  },
  {
   "cell_type": "code",
   "execution_count": null,
   "metadata": {},
   "outputs": [],
   "source": [
    "d = 0 # global variable in which final result will be found\n",
    "def Height(root):  # few changes in the code of finding height are made to find diameter and store it in d\n",
    "    if root==NULL:\n",
    "        return 0\n",
    "    hleft = Height(root.left())   # height of left subtree is stored \n",
    "    hright = Height(root.right()) # height of right subtree is stored\n",
    "    if hleft + hright + 1 > d:   #if the diameter calculated using these heights is greater than already stored in d \n",
    "        d = hleft + hright + 1    # then update it with greater value\n",
    "    return max(hleft, hright) + 1  # return height of the current node"
   ]
  },
  {
   "cell_type": "markdown",
   "metadata": {},
   "source": []
  },
  {
   "cell_type": "code",
   "execution_count": null,
   "metadata": {},
   "outputs": [],
   "source": [
    "Now start from Problem 20"
   ]
  }
 ],
 "metadata": {
  "kernelspec": {
   "display_name": "Python 3",
   "language": "python",
   "name": "python3"
  },
  "language_info": {
   "codemirror_mode": {
    "name": "ipython",
    "version": 3
   },
   "file_extension": ".py",
   "mimetype": "text/x-python",
   "name": "python",
   "nbconvert_exporter": "python",
   "pygments_lexer": "ipython3",
   "version": "3.7.6"
  }
 },
 "nbformat": 4,
 "nbformat_minor": 4
}
