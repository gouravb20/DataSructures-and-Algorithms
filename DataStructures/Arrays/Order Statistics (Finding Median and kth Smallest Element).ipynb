{
 "cells": [
  {
   "cell_type": "markdown",
   "metadata": {},
   "source": [
    "## Finding kth smallest element in array of size n"
   ]
  },
  {
   "cell_type": "code",
   "execution_count": null,
   "metadata": {},
   "outputs": [],
   "source": [
    "# Brute Force Approach -- O(nlogn) using some sorting algorithm\n",
    "# Average Approach - Creating Heap and popping k elements takes O(klogn) \n",
    "# Practically Best Approach -- Randomized Quick Find -- Expected Runtime = O(n) but worst case is O(n*n)\n",
    "# Theoritically Best Approach -- Quick Find where we select pivot such that it doesnt lead to worst case\n",
    "#      -- Worst Case runtime is also O(n)\n",
    "#      -- Not Good for pratical purpose because there are too many constant time steps that when we actually run this program on a machine it works slower"
   ]
  },
  {
   "cell_type": "markdown",
   "metadata": {},
   "source": [
    "#### Randomized Quick Find --  O(n)(Expected)"
   ]
  },
  {
   "cell_type": "code",
   "execution_count": 15,
   "metadata": {},
   "outputs": [
    {
     "name": "stdout",
     "output_type": "stream",
     "text": [
      "8\n"
     ]
    }
   ],
   "source": [
    "# Practically Best Approach\n",
    "import random\n",
    "def swap(A,i,j):\n",
    "    temp = A[i]\n",
    "    A[i] = A[j]\n",
    "    A[j] = temp\n",
    "def partition(A,low,high): # A better approach to do partition\n",
    "    p = random.randint(low,high)\n",
    "    swap(A,p,high)\n",
    "    pivot = A[high]\n",
    "    i = low - 1\n",
    "    j = low\n",
    "    while j<high:\n",
    "        if A[j]<pivot:\n",
    "            swap(A,i+1,j)\n",
    "            i +=1\n",
    "        j+=1\n",
    "    swap(A,i+1,high)\n",
    "    return i+1\n",
    "\n",
    "def quickFind(A, k):\n",
    "    if k<=0:\n",
    "        return \"Enter Valid Input\"\n",
    "    \n",
    "    l = 0\n",
    "    h = len(A) - 1\n",
    "    p = -1\n",
    "    while p!=k-1:\n",
    "        p = partition(A,l,h)\n",
    "        if p<k-1:\n",
    "            l = p+1\n",
    "        else:\n",
    "            h = p-1\n",
    "    return A[k-1]\n",
    "\n",
    "A = [1,5,3,2,8,4]\n",
    "print(quickFind(A,6))\n",
    "        "
   ]
  },
  {
   "cell_type": "code",
   "execution_count": 5,
   "metadata": {},
   "outputs": [
    {
     "data": {
      "text/plain": [
       "1"
      ]
     },
     "execution_count": 5,
     "metadata": {},
     "output_type": "execute_result"
    }
   ],
   "source": [
    "## Theoritically Best Approach \n",
    "# It is a little difficult, will be doing it later\n",
    "# Something called MedianofMedians is used here\n"
   ]
  }
 ],
 "metadata": {
  "kernelspec": {
   "display_name": "Python 3",
   "language": "python",
   "name": "python3"
  },
  "language_info": {
   "codemirror_mode": {
    "name": "ipython",
    "version": 3
   },
   "file_extension": ".py",
   "mimetype": "text/x-python",
   "name": "python",
   "nbconvert_exporter": "python",
   "pygments_lexer": "ipython3",
   "version": "3.7.6"
  }
 },
 "nbformat": 4,
 "nbformat_minor": 4
}
