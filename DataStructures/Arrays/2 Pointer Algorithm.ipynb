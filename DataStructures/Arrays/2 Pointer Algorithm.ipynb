{
 "cells": [
  {
   "cell_type": "markdown",
   "metadata": {},
   "source": [
    "#### Two pointer algorithm is also related to sliding window concept"
   ]
  },
  {
   "cell_type": "code",
   "execution_count": null,
   "metadata": {},
   "outputs": [],
   "source": [
    "# Problem No 3\n",
    "# leetcode length of longest substring without repeating characters\n",
    "# O(n^2)\n",
    "def lengthOfLongestSubstring(s: str) -> int:\n",
    "        n = len(s)\n",
    "        ans = 0\n",
    "        for i in range(n):\n",
    "            count = 0\n",
    "            d = defaultdict(lambda : False)\n",
    "            for j in range(i,n):\n",
    "                if d[s[j]] == False:\n",
    "                    d[s[j]] = True\n",
    "                    count+=1\n",
    "                else:\n",
    "                    break\n",
    "            ans = max(ans, count)\n",
    "        return ans\n",
    "print(lengthOfLongestSubstring(\"abcabcbb\"))"
   ]
  },
  {
   "cell_type": "code",
   "execution_count": null,
   "metadata": {},
   "outputs": [],
   "source": [
    "# Problem No 3\n",
    "# leetcode length of longest substring\n",
    "# O(n)\n",
    "def lengthOfLongestSubstring(s: str) -> int:\n",
    "        n = len(s)\n",
    "        ans = 0\n",
    "        d = defaultdict(lambda : 0)\n",
    "        end = 0\n",
    "        for i in range(n):\n",
    "            while end< n and d[s[end]] == 0:\n",
    "                d[s[end]] += 1\n",
    "                end+=1\n",
    "            ans = max(ans, end - i)\n",
    "            d[s[i]] -= 1\n",
    "        return ans\n",
    "print(lengthOfLongestSubstring(\"pwwkew\"))"
   ]
  }
 ],
 "metadata": {
  "kernelspec": {
   "display_name": "Python 3",
   "language": "python",
   "name": "python3"
  },
  "language_info": {
   "codemirror_mode": {
    "name": "ipython",
    "version": 3
   },
   "file_extension": ".py",
   "mimetype": "text/x-python",
   "name": "python",
   "nbconvert_exporter": "python",
   "pygments_lexer": "ipython3",
   "version": "3.7.6"
  }
 },
 "nbformat": 4,
 "nbformat_minor": 4
}
