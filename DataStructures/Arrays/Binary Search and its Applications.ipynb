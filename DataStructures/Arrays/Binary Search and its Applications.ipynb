{
 "cells": [
  {
   "cell_type": "code",
   "execution_count": null,
   "metadata": {},
   "outputs": [],
   "source": [
    "# Aggressive Cows\n",
    "# Available on SPOJ\n",
    "# Binary search is used to reduce complexity\n",
    "\n",
    "def check(A,d,c):\n",
    "    i = 0\n",
    "    c-=1\n",
    "    while c!=0:\n",
    "        temp = A[i] + d\n",
    "        while i<len(A) and A[i]<temp:\n",
    "            i+=1\n",
    "        if i>=len(A):\n",
    "            return False\n",
    "        c-=1\n",
    "    if c == 0:\n",
    "        return True\n",
    "    return False\n",
    "        \n",
    "            \n",
    "def aggcows(A,c):\n",
    "    A.sort()\n",
    "    low = 0\n",
    "    high = A[-1] - A[0]\n",
    "    ans = low\n",
    "    while low < high:\n",
    "        mid = (low +high)//2\n",
    "        a = check(A,mid,c)\n",
    "#         print(a, mid)\n",
    "        if a:\n",
    "            ans = mid\n",
    "            low = mid + 1\n",
    "        else:\n",
    "            high = mid - 1\n",
    "    if check(A,low,c):\n",
    "        ans = low\n",
    "    return ans\n",
    "T = int(input())\n",
    "for i in range(T):\n",
    "    [n,c] = [int(x) for x in input().split()] \n",
    "    A = []\n",
    "    for j in range(n):\n",
    "        A.append(int(input()))\n",
    "    print(aggcows(A,c))\n",
    "\n",
    "        \n",
    "        "
   ]
  }
 ],
 "metadata": {
  "kernelspec": {
   "display_name": "Python 3",
   "language": "python",
   "name": "python3"
  },
  "language_info": {
   "codemirror_mode": {
    "name": "ipython",
    "version": 3
   },
   "file_extension": ".py",
   "mimetype": "text/x-python",
   "name": "python",
   "nbconvert_exporter": "python",
   "pygments_lexer": "ipython3",
   "version": "3.7.6"
  }
 },
 "nbformat": 4,
 "nbformat_minor": 4
}
