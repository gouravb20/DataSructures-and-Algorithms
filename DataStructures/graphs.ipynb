{
 "cells": [
  {
   "cell_type": "markdown",
   "metadata": {},
   "source": [
    "# Undirected Graphs"
   ]
  },
  {
   "cell_type": "markdown",
   "metadata": {},
   "source": [
    "### Prims algorithm / Dijkstra's Algorithm (O(ElogV)) [Using PQs]\n",
    "\n",
    "Both are algorithmically same       \n",
    "Prims algorithm for MST     \n",
    "Dijkstra algorithm for SingleSourceShortest path   \n",
    "\n",
    "O(V^2) without PQs, better for dense graphs"
   ]
  },
  {
   "cell_type": "code",
   "execution_count": 1,
   "metadata": {},
   "outputs": [],
   "source": [
    "from heapq import *\n",
    "g = {} # adjacency list of the graph\n",
    "\n",
    "mstCost = 0\n",
    "q = [(0 , 0)]\n",
    "visited = set()\n",
    "while len(q):\n",
    "    weight , node = heappop(q)\n",
    "    if node in visited: continue\n",
    "    visited.add(node)\n",
    "    mstCost += weight\n",
    "    if len(visited)==len(g):\n",
    "        break\n",
    "    for v,w in g[node]:\n",
    "        if v not in visited:\n",
    "            heappush(q, (w, v))\n",
    "print(\"MST Cost: \", mstCost)\n",
    "\n"
   ]
  },
  {
   "cell_type": "markdown",
   "metadata": {},
   "source": [
    "### Kruskal's Algorithm (Disjoint Sets) (OElogE)"
   ]
  },
  {
   "cell_type": "code",
   "execution_count": null,
   "metadata": {},
   "outputs": [],
   "source": [
    "class Solution:\n",
    "    #Function to find sum of weights of edges of the Minimum Spanning Tree.\n",
    "    def spanningTree(self, V, g):\n",
    "         \n",
    "        sets = [-1]*V\n",
    "        def find(a):\n",
    "            if sets[a]<0: return a\n",
    "            sets[a]=find(sets[a])\n",
    "            return sets[a]\n",
    "        \n",
    "        def union(a,b):\n",
    "            A,B = find(a),find(b)\n",
    "            if A==B: return False\n",
    "            if sets[A] < sets[B]:\n",
    "                sets[A] += sets[B]\n",
    "                sets[B]=A\n",
    "            else:\n",
    "                sets[B] += sets[A]\n",
    "                sets[A]=B\n",
    "            return True\n",
    "\n",
    "        edges = []\n",
    "        for u in range(V):\n",
    "            for v,w in g[u]:\n",
    "                edges.append([u,v,w])\n",
    "        edges.sort(key = lambda a:a[2])\n",
    "        # print(edges)\n",
    "        \n",
    "        count = 0\n",
    "        ans = 0\n",
    "        for u,v,w in edges:\n",
    "            if union(u,v):\n",
    "                count += 1\n",
    "                ans += w\n",
    "            if count==V-1:\n",
    "                break\n",
    "                \n",
    "        return ans\n"
   ]
  },
  {
   "cell_type": "markdown",
   "metadata": {},
   "source": [
    "### Bellman Ford Algorithm  O(EV) == O(V^3)\n",
    "\n",
    "* Suitable for negative edge graphs where Dijkstra doesn't work\n",
    "* Should not have negative edge cycles"
   ]
  },
  {
   "cell_type": "code",
   "execution_count": null,
   "metadata": {},
   "outputs": [],
   "source": [
    "# Bellman Ford Algorithm for Single Source shortest path\n",
    "# Directed Graph with n vertices labeled from 1 to n-1\n",
    "# list of edges (u,v,w)\n",
    "def bellman(V, edges: list, src):\n",
    "    d = [float('inf')]*V\n",
    "    d[src]=0\n",
    "    for i in range(V-1):\n",
    "        for u,v,w in edges:\n",
    "            if d[v] > d[u] + w:\n",
    "                d[v]=d[u]\n",
    "    return d"
   ]
  },
  {
   "cell_type": "markdown",
   "metadata": {},
   "source": [
    "### Floyd Warshall Algorithm\n",
    "* Should not have negative weight cycles"
   ]
  },
  {
   "cell_type": "code",
   "execution_count": 3,
   "metadata": {},
   "outputs": [
    {
     "name": "stdout",
     "output_type": "stream",
     "text": [
      "[[3, 2, 1], [1, 3, 2], [2, 1, 3]]\n"
     ]
    }
   ],
   "source": [
    "# this algorithm can be applied on adjacency matrix only\n",
    "inf = float('inf')\n",
    "g = [[inf,inf,1],[1,inf,inf], [inf,1,inf]]\n",
    "n = len(g)\n",
    "for k in range(n):\n",
    "    for i in range(n):\n",
    "        for j in range(n):\n",
    "            g[i][j] = min(g[i][j], g[i][k] + g[k][j])\n",
    "print(g)"
   ]
  },
  {
   "cell_type": "markdown",
   "metadata": {},
   "source": [
    "### Find all Topological Sortings possible (Kahn's Algorithm)\n"
   ]
  },
  {
   "cell_type": "code",
   "execution_count": 9,
   "metadata": {},
   "outputs": [
    {
     "name": "stdout",
     "output_type": "stream",
     "text": [
      "[4, 5, 0, 2, 3, 1]\n",
      "[4, 5, 2, 0, 3, 1]\n",
      "[4, 5, 2, 3, 0, 1]\n",
      "[4, 5, 2, 3, 1, 0]\n",
      "[5, 2, 3, 4, 0, 1]\n",
      "[5, 2, 3, 4, 1, 0]\n",
      "[5, 2, 4, 0, 3, 1]\n",
      "[5, 2, 4, 3, 0, 1]\n",
      "[5, 2, 4, 3, 1, 0]\n",
      "[5, 4, 0, 2, 3, 1]\n",
      "[5, 4, 2, 0, 3, 1]\n",
      "[5, 4, 2, 3, 0, 1]\n",
      "[5, 4, 2, 3, 1, 0]\n"
     ]
    }
   ],
   "source": [
    "g = {0:[], 1:[], 2:[3], 3:[1], 4:[0,1], 5:[0,2]}\n",
    "\n",
    "def solve(g):\n",
    "    V = len(g)\n",
    "    indegree = [0]*V\n",
    "    for u in range(V):\n",
    "        for v in g[u]:\n",
    "            indegree[v]+=1\n",
    "\n",
    "    q = set()\n",
    "    for i in range(V):\n",
    "        if indegree[i]==0:\n",
    "            q.add(i)\n",
    "\n",
    "    temp = []\n",
    "    res = []\n",
    "    def recur(n=V):\n",
    "        if n == 0:\n",
    "            res.append(temp.copy())\n",
    "            return\n",
    "        nodes = list(q)\n",
    "        for node in nodes:\n",
    "            temp.append(node)\n",
    "            q.remove(node)\n",
    "            for v in g[node]:\n",
    "                indegree[v]-=1\n",
    "                if indegree[v]==0: q.add(v)\n",
    "            recur(n-1)\n",
    "            for v in g[node]:\n",
    "                if indegree[v]==0: q.remove(v)\n",
    "                indegree[v]+=1\n",
    "            q.add(node)\n",
    "            temp.pop()\n",
    "    recur(V)\n",
    "    return res\n",
    "# ans = set([tuple(x) for x in solve(g)])\n",
    "\n",
    "for x in sorted(solve(g)):\n",
    "    print(x)\n",
    "# print(solve(g))\n",
    "        "
   ]
  },
  {
   "cell_type": "markdown",
   "metadata": {},
   "source": [
    "## Tarjan's Algorithm"
   ]
  },
  {
   "cell_type": "markdown",
   "metadata": {},
   "source": [
    "### Print All Strongly Connected Components"
   ]
  },
  {
   "cell_type": "code",
   "execution_count": 7,
   "metadata": {},
   "outputs": [
    {
     "name": "stdout",
     "output_type": "stream",
     "text": [
      "[[0], [1], [8], [2], [3], [4], [5], [6], [7]]\n"
     ]
    }
   ],
   "source": [
    "class Solution:\n",
    "    \n",
    "    def tarjans(self, n, g):\n",
    "        res = []\n",
    "        time = [0]*n\n",
    "        low  = [0]*n\n",
    "        self.t = 1\n",
    "        stack = []\n",
    "        onStack = [False]*n\n",
    "    \n",
    "        def dfs(node):\n",
    "            time[node] = low[node] = self.t\n",
    "            self.t+=1\n",
    "            stack.append(node)\n",
    "            onStack[node]=True\n",
    "            for child in g[node]:\n",
    "                if time[child]==0:\n",
    "                    dfs(child)\n",
    "                    if onStack[child]:\n",
    "                        low[node] = min(low[node], low[child])\n",
    "                elif onStack[child]:\n",
    "                    low[node] = min(low[node], time[child])\n",
    "            if time[node] == low[node]:\n",
    "                ans = []\n",
    "                while True:\n",
    "                    ans.append(stack.pop())\n",
    "                    onStack[ans[-1]] = False\n",
    "                    if ans[-1]==node: break\n",
    "                res.append(ans)\n",
    "            return\n",
    "    \n",
    "        for i in range(n):\n",
    "            if time[i]==0:\n",
    "                dfs(i)\n",
    "        return res\n",
    "\n",
    "visited = set()\n",
    "n = 9\n",
    "edges = [(2,8), (8,0), (7,5), (5,5)]\n",
    "g = {i:[] for i in range(n)}\n",
    "for u,v in edges:\n",
    "    g[u].append(v)\n",
    "print(Solution().tarjans(n,g))"
   ]
  },
  {
   "cell_type": "markdown",
   "metadata": {},
   "source": [
    "### Articulation Points"
   ]
  },
  {
   "cell_type": "code",
   "execution_count": 7,
   "metadata": {},
   "outputs": [
    {
     "name": "stdout",
     "output_type": "stream",
     "text": [
      "[True, False, False, True, False]\n",
      "[False, True, True, False]\n"
     ]
    }
   ],
   "source": [
    "# Algorithm to find Bridges is also very similar .. but a little easier\n",
    "class Solution:\n",
    "    def findAPs(self, g):\n",
    "        n = len(g)\n",
    "        self.t = 0\n",
    "        time=[0]*n\n",
    "        low = [0]*n\n",
    "        ap = [False]*n # True if it is articulation point\n",
    "        visited = set()\n",
    "        \n",
    "        def AP(node, parent=None):\n",
    "            countChild = 0  # counts disconnected childrens\n",
    "            low[node]=time[node]=self.t\n",
    "            self.t+=1\n",
    "            visited.add(node)\n",
    "            for child in g[node]:\n",
    "                if child==parent: continue\n",
    "                if child not in visited:\n",
    "                    countChild+=1\n",
    "                    AP(child, node)\n",
    "                    low[node] = min(low[node], low[child])\n",
    "                    if parent!=None and low[child] >= time[node]:\n",
    "                        ap[node]=True\n",
    "                else:\n",
    "                    low[node] = min(low[node], time[child])\n",
    "            \n",
    "            if parent==None and countChild>1:\n",
    "                ap[node] = True\n",
    "            return\n",
    "        AP(0)\n",
    "        return ap\n",
    "          \n",
    "                \n",
    "g = [[1,2,3], [0,2], [0,1], [0,4], [3]] # given a connected graph\n",
    "g1 = [[1], [0,2], [1,3], [2]]\n",
    "print(Solution().findAPs(g))\n",
    "print(Solution().findAPs(g1))\n",
    "    "
   ]
  },
  {
   "cell_type": "code",
   "execution_count": 20,
   "metadata": {},
   "outputs": [
    {
     "name": "stdout",
     "output_type": "stream",
     "text": [
      "{0: [], 1: [3], 2: [1], 3: [8, 0, 9], 4: [5], 5: [4, 3], 6: [6], 7: [3], 8: [6, 5], 9: [9, 5]}\n",
      "[[0], [6], [3, 8, 5, 4, 9], [1], [2], [7]]\n"
     ]
    }
   ],
   "source": [
    "class Solution:\n",
    "    \n",
    "    def tarjans(self, n, g):\n",
    "        res = []\n",
    "        time = [0]*n\n",
    "        low  = [0]*n\n",
    "        self.t = 1\n",
    "        visited = set()\n",
    "    \n",
    "        def dfs(node):\n",
    "            time[node] = low[node] = self.t\n",
    "            self.t+=1\n",
    "            comp = [node]\n",
    "            for child in g[node]:\n",
    "                if time[child]==0:\n",
    "                    childComp = dfs(child)\n",
    "                    if time[node] < low[child]:\n",
    "                        res.append(childComp)\n",
    "                        [visited.add(x)  for x in childComp]\n",
    "                    else:\n",
    "                        comp.extend(childComp)\n",
    "                if child not in visited:\n",
    "                    low[node] = min(low[node], low[child])\n",
    "\n",
    "            return comp\n",
    "    \n",
    "        for i in range(n):\n",
    "            if time[i]==0:\n",
    "                comp = dfs(i)\n",
    "                res.append(comp)\n",
    "                [visited.add(node) for node in comp]\n",
    "        return res\n",
    "\n",
    "# n = 9\n",
    "# edges = [(2,8), (8,0), (7,5), (5,5)]\n",
    "# n = 8\n",
    "# edges = [\n",
    "#     [4, 4],\n",
    "# [3, 1],\n",
    "# [0, 2],\n",
    "# [6, 3],\n",
    "# [6, 5],\n",
    "# [1, 4],\n",
    "# [1, 7],\n",
    "# [3, 7],\n",
    "# [1, 0],\n",
    "# [3, 3],\n",
    "# [4, 3],\n",
    "# [1, 4],\n",
    "# [7, 6],\n",
    "# ]\n",
    "\n",
    "n = 10\n",
    "s = '''\n",
    "5 4\n",
    "6 6\n",
    "3 9\n",
    "9 5\n",
    "2 1\n",
    "3 0\n",
    "9 9\n",
    "1 3\n",
    "4 5\n",
    "8 5\n",
    "7 3\n",
    "3 8\n",
    "9 5\n",
    "5 3\n",
    "8 6\n",
    "'''.split()\n",
    "\n",
    "# n = 8\n",
    "# edges = [(0,1), (1,2), (2,0), (3,7), (7,3), (3,4), (7,5), (6,0), (5,0), (5,6), (6,4), (4,5)]\n",
    "g = {i:[] for i in range(n)}\n",
    "edges = set()\n",
    "for i in range(0,len(s), 2):\n",
    "    edges.add((int(s[i]), int(s[i+1])))\n",
    "for u,v in edges:\n",
    "    g[u].append(v)\n",
    "for u in g:\n",
    "    g[u]=list(g[u])\n",
    "print(g)\n",
    "print(Solution().tarjans(n,g))"
   ]
  }
 ],
 "metadata": {
  "kernelspec": {
   "display_name": "Python 3",
   "language": "python",
   "name": "python3"
  },
  "language_info": {
   "codemirror_mode": {
    "name": "ipython",
    "version": 3
   },
   "file_extension": ".py",
   "mimetype": "text/x-python",
   "name": "python",
   "nbconvert_exporter": "python",
   "pygments_lexer": "ipython3",
   "version": "3.12.2"
  },
  "vscode": {
   "interpreter": {
    "hash": "f9e5edc7c461bb44eb923f36908afa42d01f043a516f5f4ab0b7ca4f5e5b5da8"
   }
  }
 },
 "nbformat": 4,
 "nbformat_minor": 4
}
