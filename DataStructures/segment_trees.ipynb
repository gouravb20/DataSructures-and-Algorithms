{
 "cells": [
  {
   "cell_type": "markdown",
   "metadata": {},
   "source": [
    "### Segment Tree "
   ]
  },
  {
   "cell_type": "code",
   "execution_count": null,
   "metadata": {},
   "outputs": [],
   "source": [
    "# https://leetcode.com/articles/a-recursive-approach-to-segment-trees-range-sum-queries-lazy-propagation/\n",
    "# http://visualgo.net/"
   ]
  },
  {
   "cell_type": "code",
   "execution_count": 84,
   "metadata": {},
   "outputs": [],
   "source": [
    "## A template to write Segment Tree\n",
    "class SegmentTree:\n",
    "    def __init__(self, nums):\n",
    "        self.nums = nums\n",
    "        self.n = n = len(nums)\n",
    "        self.tree = [0]*(4*n)\n",
    "        self._buildTree(0,0,n-1)\n",
    "\n",
    "    def _buildTree(self,index, l, h):\n",
    "        if l==h:\n",
    "            self.tree[index] = self.nums[l]\n",
    "            return \n",
    "        mid=l+(h-l)//2\n",
    "        self._buildTree(2*index+1, l, mid)\n",
    "        self._buildTree(2*index+2, mid+1, h)\n",
    "\n",
    "        # merge results\n",
    "        self.tree[index] = self.merge(self.tree[2*index+1], self.tree[2*index+2])\n",
    "    \n",
    "    def merge(self, treeVal1, treeVal2):\n",
    "        return treeVal1 + treeVal2\n",
    "\n",
    "    def query(self, ql, qh, index=0, l=None, h=None):\n",
    "        if l==h==None:\n",
    "            l,h=0,self.n-1\n",
    "        if ql>h or qh<l:\n",
    "            return 0\n",
    "        if ql<=l and h<=qh:\n",
    "            return self.tree[index]\n",
    "\n",
    "        mid = l + (h-l)//2\n",
    "        left =  self.query(ql, qh, 2*index+1, l,     mid)\n",
    "        right = self.query(ql, qh, 2*index+2, mid+1, h)\n",
    "        return self.merge(left, right)\n",
    "    \n",
    "    def update(self, arrIndex, val, treeIndex=0, l=None, h=None):\n",
    "        if l==h==None:\n",
    "            l,h=0,self.n-1\n",
    "        if arrIndex < l or arrIndex > h:\n",
    "            return self.tree[treeIndex]\n",
    "        if l==h:\n",
    "            self.tree[treeIndex]=val\n",
    "            self.nums[arrIndex]=val\n",
    "            return val\n",
    "        mid = l + (h-l)//2\n",
    "        left = self.update(arrIndex, val, 2*treeIndex+1, l, mid)\n",
    "        right = self.update(arrIndex, val, 2*treeIndex+2, mid+1, h)\n",
    "        self.tree[treeIndex] = self.merge(left, right)\n",
    "        return self.tree[treeIndex]\n"
   ]
  },
  {
   "cell_type": "code",
   "execution_count": 85,
   "metadata": {},
   "outputs": [],
   "source": [
    "nums = [1,2,3,4,5,6]\n",
    "n = len(nums)\n",
    "s = SegmentTree(nums)"
   ]
  },
  {
   "cell_type": "code",
   "execution_count": 86,
   "metadata": {},
   "outputs": [
    {
     "name": "stdout",
     "output_type": "stream",
     "text": [
      "[21, 6, 15, 3, 3, 9, 6, 1, 2, 0, 0, 4, 5, 0, 0, 0, 0, 0, 0, 0, 0, 0, 0, 0]\n",
      "2\n"
     ]
    },
    {
     "data": {
      "text/plain": [
       "6"
      ]
     },
     "execution_count": 86,
     "metadata": {},
     "output_type": "execute_result"
    }
   ],
   "source": [
    "print(s.tree)\n",
    "print((n-1)//2)\n",
    "s.query(0,(n-1)//2)"
   ]
  },
  {
   "cell_type": "code",
   "execution_count": 87,
   "metadata": {},
   "outputs": [
    {
     "data": {
      "text/plain": [
       "20"
      ]
     },
     "execution_count": 87,
     "metadata": {},
     "output_type": "execute_result"
    }
   ],
   "source": [
    "s.update(0,0)"
   ]
  },
  {
   "cell_type": "code",
   "execution_count": 88,
   "metadata": {},
   "outputs": [
    {
     "name": "stdout",
     "output_type": "stream",
     "text": [
      "[20, 5, 15, 2, 3, 9, 6, 0, 2, 0, 0, 4, 5, 0, 0, 0, 0, 0, 0, 0, 0, 0, 0, 0]\n"
     ]
    }
   ],
   "source": [
    "print(s.tree)"
   ]
  },
  {
   "cell_type": "markdown",
   "metadata": {},
   "source": [
    "#### Dynamic Segment Trees"
   ]
  },
  {
   "cell_type": "code",
   "execution_count": null,
   "metadata": {},
   "outputs": [],
   "source": [
    "# Leetcode => My Calendar I\n",
    "\n",
    "class SegmentTreeNode:\n",
    "    def __init__(self,booked=False):\n",
    "        self.booked = booked\n",
    "        self.left = self.right = None\n",
    "        \n",
    "        \n",
    "class MyCalendar:\n",
    "    maxInt = 10**9\n",
    "    \n",
    "    def __init__(self):\n",
    "        self.root = None\n",
    "    \n",
    "    def book(self, start: int, end: int) -> bool:\n",
    "        found = self.search_tree(self.root, 0, self.maxInt, start, end-1)\n",
    "        if not found:\n",
    "            self.root = self.insert_tree(self.root, 0, self.maxInt, start, end-1)\n",
    "            return True\n",
    "        return False\n",
    "    \n",
    "    def traverse(self, root, lo=0, hi=20):\n",
    "        if not root:\n",
    "            return None\n",
    "        mid = lo+(hi-lo)//2\n",
    "        self.traverse(root.left, lo, mid)\n",
    "        self.traverse(root.right, mid+1, hi)\n",
    "        return\n",
    "    \n",
    "    def search_tree(self, root, lo, hi, start, end):\n",
    "        if not root or start > end or end<lo or start>hi:\n",
    "            return False\n",
    "        if root.booked:\n",
    "            return True\n",
    "        mid = lo + (hi-lo)//2\n",
    "        leftBooked = self.search_tree(root.left, lo, mid, start, min(mid, end))\n",
    "        rightBooked = self.search_tree(root.right, mid+1, hi, max(start, mid+1), end)\n",
    "        return leftBooked or rightBooked\n",
    "        \n",
    "        \n",
    "    def insert_tree(self, root, lo, hi, start, end):\n",
    "        if start > end or end < lo or start > hi:\n",
    "            return root\n",
    "        if root==None:\n",
    "            root = SegmentTreeNode(False)\n",
    "        if start <= lo and hi <= end:\n",
    "            root.booked = True\n",
    "            return root\n",
    "        mid = lo + (hi-lo)//2\n",
    "        root.left = self.insert_tree(root.left, lo, mid, start, min(mid, end))\n",
    "        root.right = self.insert_tree(root.right, mid+1, hi, max(start, mid+1), end)\n",
    "        root.booked = root.left and root.left.booked and root.right and root.right.booked\n",
    "        return root\n",
    "            \n",
    "\n",
    "    "
   ]
  }
 ],
 "metadata": {
  "interpreter": {
   "hash": "f9e5edc7c461bb44eb923f36908afa42d01f043a516f5f4ab0b7ca4f5e5b5da8"
  },
  "kernelspec": {
   "display_name": "Python 3.9.6 64-bit",
   "language": "python",
   "name": "python3"
  },
  "language_info": {
   "codemirror_mode": {
    "name": "ipython",
    "version": 3
   },
   "file_extension": ".py",
   "mimetype": "text/x-python",
   "name": "python",
   "nbconvert_exporter": "python",
   "pygments_lexer": "ipython3",
   "version": "3.9.6"
  },
  "orig_nbformat": 4
 },
 "nbformat": 4,
 "nbformat_minor": 2
}
