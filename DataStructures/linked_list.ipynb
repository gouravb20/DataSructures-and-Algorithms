{
 "cells": [
  {
   "cell_type": "markdown",
   "metadata": {},
   "source": [
    "### Class for Linked List"
   ]
  },
  {
   "cell_type": "code",
   "execution_count": 35,
   "metadata": {},
   "outputs": [],
   "source": [
    "class Node:\n",
    "\n",
    "    def __init__(self, data):\n",
    "        self.data = data\n",
    "        self.link = None\n",
    "\n",
    "\n",
    "class LL:\n",
    "    def __init__(self, args):\n",
    "        self.root = None\n",
    "        for i in range(len(args)-1, -1, -1):\n",
    "            self.insert_at_front(args[i])\n",
    "\n",
    "    def insert_at_front(self, data):\n",
    "        if self.root is None:\n",
    "            self.root = Node(data)\n",
    "        else:\n",
    "            temp = Node(data)\n",
    "            temp.link = self.root\n",
    "            self.root = temp\n",
    "\n",
    "    def __str__(self):\n",
    "        s = []\n",
    "        temp = self.root\n",
    "        while temp is not None :\n",
    "            s.append(temp.data)\n",
    "            temp = temp.link\n",
    "        return str(s)\n",
    "\n"
   ]
  },
  {
   "cell_type": "code",
   "execution_count": 50,
   "metadata": {
    "scrolled": true
   },
   "outputs": [
    {
     "name": "stdout",
     "output_type": "stream",
     "text": [
      "[1, 2, 3, 4, 5, 6, 7, 8, 9, 10, 11]\n"
     ]
    }
   ],
   "source": [
    "myList = LL([1,2,3,4,5,6,7,8,9,10,11])  # Here I am parsing a list which will be converted into Linked List(LL)\n",
    "print(myList)"
   ]
  },
  {
   "cell_type": "markdown",
   "metadata": {},
   "source": [
    "### Reversing a linked list alternatively"
   ]
  },
  {
   "cell_type": "code",
   "execution_count": 45,
   "metadata": {
    "scrolled": true
   },
   "outputs": [],
   "source": [
    "\n",
    "def reverse_links(root, k):\n",
    "    fnode = root\n",
    "    snode = root.link\n",
    "    temp = root\n",
    "    i = 1\n",
    "    while i<k and snode is not None:\n",
    "        tnode = snode.link\n",
    "        snode.link = fnode\n",
    "        fnode = snode\n",
    "        snode = tnode\n",
    "        i+=1\n",
    "    return (fnode, temp, snode)\n",
    "\n",
    "def alternative_reverse(myList, k):\n",
    "    myList.root, end, fnode = reverse_links(myList.root, k)\n",
    "    while fnode is not None:\n",
    "        temp2 = reverse_links(fnode, k)\n",
    "        end.link = temp2[0]\n",
    "        end = temp2[1]\n",
    "        fnode = temp2[2]\n",
    "    end.link = None\n",
    "    return myList\n",
    "\n",
    "        "
   ]
  },
  {
   "cell_type": "code",
   "execution_count": 51,
   "metadata": {},
   "outputs": [
    {
     "name": "stdout",
     "output_type": "stream",
     "text": [
      "[6, 5, 4, 3, 2, 1, 11, 10, 9, 8, 7]\n"
     ]
    }
   ],
   "source": [
    "res = alternative_reverse(myList, 6)\n",
    "\n",
    "print(res)"
   ]
  },
  {
   "cell_type": "code",
   "execution_count": 29,
   "metadata": {},
   "outputs": [
    {
     "name": "stdout",
     "output_type": "stream",
     "text": [
      "[3, 2, 1, 4, 5, 6, 7, 8, 9, 10] 1 4\n"
     ]
    }
   ],
   "source": []
  }
 ],
 "metadata": {
  "kernelspec": {
   "display_name": "Python 3",
   "language": "python",
   "name": "python3"
  },
  "language_info": {
   "codemirror_mode": {
    "name": "ipython",
    "version": 3
   },
   "file_extension": ".py",
   "mimetype": "text/x-python",
   "name": "python",
   "nbconvert_exporter": "python",
   "pygments_lexer": "ipython3",
   "version": "3.7.6"
  }
 },
 "nbformat": 4,
 "nbformat_minor": 4
}
