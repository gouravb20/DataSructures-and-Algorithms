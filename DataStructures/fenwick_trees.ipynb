{
 "cells": [
  {
   "cell_type": "markdown",
   "metadata": {},
   "source": [
    "### Fewick Tree (Binary Indexed Tree)"
   ]
  },
  {
   "cell_type": "code",
   "execution_count": null,
   "metadata": {},
   "outputs": [],
   "source": [
    "# https://codeforces.com/blog/entry/61364 (Extra information)\n",
    "# https://youtu.be/uSFzHCZ4E-8?si=TGBI6utX01xfANs-  (Best Explanation)"
   ]
  },
  {
   "cell_type": "code",
   "execution_count": 1,
   "metadata": {},
   "outputs": [
    {
     "name": "stdout",
     "output_type": "stream",
     "text": [
      "9 8\n"
     ]
    }
   ],
   "source": [
    "# Leetcode 307 - Range Sum Query\n",
    "class NumArray:\n",
    "    def __init__(self, nums: list[int]):\n",
    "        self.nums = nums\n",
    "        self.bit = [0]+nums\n",
    "        n = len(nums)\n",
    "        for i in range(1,n+1):\n",
    "            j = i + (i&(-i))\n",
    "            if j<=n:\n",
    "                self.bit[j] += self.bit[i]\n",
    "\n",
    "    def update(self, index: int, val: int) -> None:\n",
    "        preVal = self.nums[index]\n",
    "        self.nums[index]=val\n",
    "        j=index+1\n",
    "        while j<=len(self.nums):\n",
    "            self.bit[j] += val - preVal\n",
    "            j = j + (j&(-j))\n",
    "        \n",
    "\n",
    "    def prefixSum(self,index):\n",
    "        index+=1\n",
    "        total = 0\n",
    "        while index>0:\n",
    "            total += self.bit[index]\n",
    "            index = index - (index&(-index))\n",
    "        return total\n",
    "        \n",
    "        \n",
    "    def sumRange(self, left: int, right: int) -> int:\n",
    "        return self.prefixSum(right) - self.prefixSum(left-1)\n",
    "        \n",
    "\n",
    "\n",
    "# Your NumArray object will be instantiated and called as such:\n",
    "obj = NumArray([1,3,5])\n",
    "sum1 = obj.sumRange(0,2)\n",
    "obj.update(1,2)\n",
    "sum2 = obj.sumRange(0,2)\n",
    "print(sum1, sum2)"
   ]
  },
  {
   "cell_type": "code",
   "execution_count": null,
   "metadata": {},
   "outputs": [],
   "source": []
  }
 ],
 "metadata": {
  "kernelspec": {
   "display_name": "pybase",
   "language": "python",
   "name": "python3"
  },
  "language_info": {
   "codemirror_mode": {
    "name": "ipython",
    "version": 3
   },
   "file_extension": ".py",
   "mimetype": "text/x-python",
   "name": "python",
   "nbconvert_exporter": "python",
   "pygments_lexer": "ipython3",
   "version": "3.12.2"
  },
  "orig_nbformat": 4
 },
 "nbformat": 4,
 "nbformat_minor": 2
}
