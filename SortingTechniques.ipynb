{
 "cells": [
  {
   "cell_type": "markdown",
   "metadata": {},
   "source": [
    "Magic/Dunder Methods : These are the methods you define so that the objects of the classes made by you can also be operated on the functions like print(), len(), and many others that we use on builtin objects/dataTypes. "
   ]
  },
  {
   "cell_type": "code",
   "execution_count": 1,
   "metadata": {},
   "outputs": [],
   "source": [
    "class Book:\n",
    "    def __init__(self, title, author, pages):\n",
    "        print(\"A book is created\")\n",
    "        self.title = title\n",
    "        self.author = author\n",
    "        self.pages = pages\n",
    "\n",
    "    # special methods are defined as __name__() \n",
    "    def __str__(self): # this a special/magic method defining what will you if the object of this class is printed\n",
    "        return \"Title: %s, author: %s, pages: %s\" %(self.title, self.author, self.pages)\n",
    "\n",
    "    def __len__(self): # this a magic method defining what it will return if called for length of the book\n",
    "        return self.pages\n",
    "\n",
    "    def __del__(self):# would work on del function\n",
    "        print(\"A book is destroyed\")"
   ]
  },
  {
   "cell_type": "code",
   "execution_count": 4,
   "metadata": {},
   "outputs": [
    {
     "name": "stdout",
     "output_type": "stream",
     "text": [
      "A book is created\n",
      "Title: Atlas Shrugged, author: Ayn Rand, pages: 1059\n",
      "1059\n",
      "A book is destroyed\n"
     ]
    }
   ],
   "source": [
    "book1 = Book(\"Atlas Shrugged\", \"Ayn Rand\", 1059)\n",
    "\n",
    "#Special Methods\n",
    "print(book1)\n",
    "print(len(book1))\n",
    "del book1"
   ]
  },
  {
   "cell_type": "markdown",
   "metadata": {},
   "source": [
    "This the basics of Magic Methods you need to know!!\n",
    "\n",
    "__________x______________x______________x_______________x______________x_____________x_____________x______________x__________\n",
    "\n",
    "In Python,Values are passed to function by object reference. if object is immutable(not modifiable) than the modified value is not available outside the function. if object is mutable (modifiable) than modified value is available outside the function."
   ]
  },
  {
   "cell_type": "code",
   "execution_count": 11,
   "metadata": {},
   "outputs": [
    {
     "name": "stdout",
     "output_type": "stream",
     "text": [
      "Gourav\n"
     ]
    }
   ],
   "source": [
    "def f(a): \n",
    "    a = \"Hello \" + a\n",
    "\n",
    "b = \"Gourav\"\n",
    "f(b)  # a string is passed\n",
    "print(b)\n",
    "# there will be no change in the string as it is immutable"
   ]
  },
  {
   "cell_type": "code",
   "execution_count": 13,
   "metadata": {},
   "outputs": [
    {
     "name": "stdout",
     "output_type": "stream",
     "text": [
      "['Yes', 'List is Mutable']\n"
     ]
    }
   ],
   "source": [
    "def f(a): \n",
    "    a.append(\"List is Mutable\")\n",
    "\n",
    "b = [\"Yes\"]\n",
    "f(b)  # a list is passed\n",
    "print(b)"
   ]
  },
  {
   "cell_type": "code",
   "execution_count": 17,
   "metadata": {},
   "outputs": [
    {
     "name": "stdout",
     "output_type": "stream",
     "text": [
      "['Issac', 'Newton'] \n",
      " ['Issac', 'Newton']\n"
     ]
    }
   ],
   "source": [
    "list1 = [\"Issac\"]\n",
    "list2 = list1\n",
    "list2.append(\"Newton\")\n",
    "print(list2, '\\n', list1)  # both the lists will change as append is occuring inplace"
   ]
  },
  {
   "cell_type": "code",
   "execution_count": 19,
   "metadata": {},
   "outputs": [
    {
     "name": "stdout",
     "output_type": "stream",
     "text": [
      "['Issac', 'Newton'] \n",
      " ['Issac']\n"
     ]
    }
   ],
   "source": [
    "# for just copying the data of list1 into list2 ...we can use copy() method:\n",
    "list1 = [\"Issac\"]\n",
    "list2 = list1.copy()\n",
    "list2.append(\"Newton\")\n",
    "print(list2, '\\n', list1)  # only list2 is changed because reference of list1 and list2 are different now"
   ]
  },
  {
   "cell_type": "markdown",
   "metadata": {},
   "source": [
    "Salting and Hashing is used to store password nowadays in an encrypted way\n",
    "Hashing is also used for checking data transmissions...or encrypting a file ...(most common hash techniques are sha1,sha2)(md5 is also a hashing technique but now it is broken)  SHA - secure hashing algorithm"
   ]
  },
  {
   "cell_type": "code",
   "execution_count": 1,
   "metadata": {},
   "outputs": [
    {
     "ename": "KeyError",
     "evalue": "4",
     "output_type": "error",
     "traceback": [
      "\u001b[1;31m---------------------------------------------------------------------------\u001b[0m",
      "\u001b[1;31mKeyError\u001b[0m                                  Traceback (most recent call last)",
      "\u001b[1;32m<ipython-input-1-06d4d868f2dd>\u001b[0m in \u001b[0;36m<module>\u001b[1;34m\u001b[0m\n\u001b[0;32m      1\u001b[0m \u001b[0mdict1\u001b[0m \u001b[1;33m=\u001b[0m \u001b[1;33m{\u001b[0m\u001b[1;36m1\u001b[0m\u001b[1;33m:\u001b[0m\u001b[1;34m\"apple\"\u001b[0m\u001b[1;33m,\u001b[0m\u001b[1;36m2\u001b[0m\u001b[1;33m:\u001b[0m\u001b[1;34m\"oranges\"\u001b[0m\u001b[1;33m,\u001b[0m\u001b[1;36m3\u001b[0m\u001b[1;33m:\u001b[0m\u001b[1;34m\"mango\"\u001b[0m\u001b[1;33m}\u001b[0m\u001b[1;33m\u001b[0m\u001b[1;33m\u001b[0m\u001b[0m\n\u001b[1;32m----> 2\u001b[1;33m \u001b[0mdict1\u001b[0m\u001b[1;33m[\u001b[0m\u001b[1;36m4\u001b[0m\u001b[1;33m]\u001b[0m\u001b[1;33m\u001b[0m\u001b[1;33m\u001b[0m\u001b[0m\n\u001b[0m",
      "\u001b[1;31mKeyError\u001b[0m: 4"
     ]
    }
   ],
   "source": [
    "dict1 = {1:\"apple\",2:\"oranges\",3:\"mango\"}\n",
    "dict1[4]"
   ]
  },
  {
   "cell_type": "markdown",
   "metadata": {},
   "source": [
    "#### DFS BFS "
   ]
  },
  {
   "cell_type": "code",
   "execution_count": 23,
   "metadata": {},
   "outputs": [
    {
     "name": "stdout",
     "output_type": "stream",
     "text": [
      "Following is DFS from (starting from vertex 2)\n",
      "2 0 1 3 \n",
      "BFS is\n",
      "2 0 3 1 "
     ]
    }
   ],
   "source": [
    "# FOR DIRECTED GRAPHS\n",
    "#Depth First Search\n",
    "\n",
    "from collections import defaultdict\n",
    "\n",
    "\n",
    "\n",
    "class Graph:\n",
    "    \n",
    "    \n",
    "    def __init__(self):\n",
    "        \n",
    "        self.graph = defaultdict(list)  # here each key of graph(dictionary) will have value pair as a list\n",
    "        \n",
    "        \n",
    "    def addEdge(self,u,v): # DIRECTED GRAPHS\n",
    "        \n",
    "        self.graph[u].append(v)\n",
    "        \n",
    "    def DFSUtil(self, u, visited):\n",
    "        visited[u] = True\n",
    "        print(u, end=\" \")\n",
    "        \n",
    "        for i in self.graph[u]:\n",
    "            if visited[i] == False :\n",
    "                self.DFSUtil(i,visited)  #  notice that while calling the func self is not given as an argument to the function \n",
    "                \n",
    "                \n",
    "    def DFS(self,u):\n",
    "        \n",
    "        visited = [False] * (max(self.graph) + 1)#the max function gives us largest of the input values ,, in case of dictionary it gives us the maximum key\n",
    "            \n",
    "        self.DFSUtil(u,visited)\n",
    "        \n",
    "    def BFS(self, u):\n",
    "        visited = [False] * (max(self.graph) + 1)\n",
    "        tobe_explored = []\n",
    "        self.BFSUtil(u, visited, tobe_explored)\n",
    "        \n",
    "    def BFSUtil(self,u,visited, tobe_explored):\n",
    "        visited[u] = True\n",
    "        print(u, end = \" \")\n",
    "        tobe_explored.append(u)\n",
    "        while len(tobe_explored) != 0 :\n",
    "            \n",
    "            u = tobe_explored.pop(0)\n",
    "            \n",
    "            for i in self.graph[u]:\n",
    "                if visited[i] == False:\n",
    "                    visited[i] = True\n",
    "                    print(i, end=\" \")\n",
    "                    tobe_explored.append(i)\n",
    "            \n",
    "        \n",
    "        \n",
    "#Driver code\n",
    "g = Graph() \n",
    "g.addEdge(0, 1) \n",
    "g.addEdge(0, 2) \n",
    "g.addEdge(1, 2) \n",
    "g.addEdge(2, 0) \n",
    "g.addEdge(2, 3) \n",
    "g.addEdge(3, 3) \n",
    "\n",
    "print(\"Following is DFS from (starting from vertex 2)\") \n",
    "g.DFS(2) \n",
    "print(\"\\nBFS is\")\n",
    "g.BFS(2)\n",
    "    "
   ]
  },
  {
   "cell_type": "markdown",
   "metadata": {},
   "source": [
    "### Sorting a Stack using recursion by using only push and pop and no other data structure"
   ]
  },
  {
   "cell_type": "code",
   "execution_count": 11,
   "metadata": {},
   "outputs": [
    {
     "name": "stdout",
     "output_type": "stream",
     "text": [
      "1 2 3 3 45 6 5 4 33 23 4\n",
      "[1, 2, 3, 3, 4, 4, 5, 6, 23, 33, 45]\n"
     ]
    }
   ],
   "source": [
    "def sort(lis):\n",
    "\ttemp = 0\n",
    "\tif len(lis) != 0:\n",
    "\t\ttemp = lis.pop(-1)\n",
    "\t\tsort(lis)\n",
    "\t\tsorted_insert(lis, temp)\n",
    "\t\t\n",
    "def sorted_insert(lis, temp):\n",
    "\tif len(lis) ==0 or temp > lis[-1] :\n",
    "\t\tlis.append(temp)\n",
    "\t\treturn\n",
    "\t\n",
    "\tt = lis.pop(-1)\n",
    "\tsorted_insert(lis, temp)\n",
    "\tlis.append(t)\n",
    "\t\n",
    "\t\t\n",
    "\t\t\n",
    "\n",
    "lis = []\n",
    "#n = int(input(\"No. of elements you going to enter: \"))\n",
    "#lis = [int(input()) for i in range(n)]\n",
    "lis =  [int(x) for x in input().split(\" \")]\n",
    "sort(lis)\n",
    "print(lis)"
   ]
  },
  {
   "cell_type": "markdown",
   "metadata": {},
   "source": [
    "### Selection Sort"
   ]
  },
  {
   "cell_type": "code",
   "execution_count": 15,
   "metadata": {},
   "outputs": [
    {
     "name": "stdout",
     "output_type": "stream",
     "text": [
      "[2, 3, 4, 5, 6, 8]\n"
     ]
    }
   ],
   "source": [
    "def selection_sort(arr):\n",
    "    # starting from i=0, you will find the (i+1)th smallest element in the whole array and swap it with a[i]\n",
    "    #starting from j,k = 0, if a[j] < a[k] then k=j else j++\n",
    "    for i in range(len(arr)):\n",
    "        k = i\n",
    "        for j in range(i,len(arr)):\n",
    "            if arr[j] < arr[k]:\n",
    "                k = j\n",
    "        temp = arr[i]\n",
    "        arr[i] = arr[k]\n",
    "        arr[k] = temp\n",
    "    \n",
    "arr = [8,6,3,2,5,4]\n",
    "selection_sort(arr)\n",
    "print(arr)"
   ]
  },
  {
   "cell_type": "markdown",
   "metadata": {},
   "source": [
    "### Quick Sort(Divide and Conquer) (Avg and Best Case: O(nlogn)) (Worst Case: O(n^2) )\n",
    "Worst Case: When array is already sorted or fully unsorted i.e in descending order\n",
    "#Best : After each partition the array splits in half\n"
   ]
  },
  {
   "cell_type": "code",
   "execution_count": 10,
   "metadata": {},
   "outputs": [
    {
     "name": "stdout",
     "output_type": "stream",
     "text": [
      "[10, 20, 40, 50, 60, 70, 30, 80, 90, 9223372036854775807]\n"
     ]
    }
   ],
   "source": [
    "def swap(ar,i,j):\n",
    "    temp = ar[i]\n",
    "    ar[i] = ar[j]\n",
    "    ar[j] = temp\n",
    "\n",
    "def partition(ar,low,high):\n",
    "     if low < high:\n",
    "        i = low\n",
    "        j = high\n",
    "        pivot = low\n",
    "        while i<j:\n",
    "            while ar[i] <= ar[pivot]:\n",
    "                i+=1\n",
    "            while ar[j] > ar[pivot]:\n",
    "                j-=1\n",
    "            if(i < j):\n",
    "                swap(ar,i,j)\n",
    "        swap(ar,j,pivot)\n",
    "        return j\n",
    "    \n",
    "def QuickSort(ar,low,high):\n",
    "    if low < high:\n",
    "        pivot = partition(ar,low,high)\n",
    "        QuickSort(ar,low,pivot)\n",
    "        QuickSort(ar,pivot+1,high)\n",
    "        \n",
    "import sys\n",
    "ar = [50,70,60,90,40,80,10,20,30,sys.maxsize]\n",
    "QuickSort(ar,0,len(ar)-1)\n",
    "print(ar)\n",
    "\n"
   ]
  },
  {
   "cell_type": "markdown",
   "metadata": {},
   "source": [
    "### Merge Sort(O(nlogn))  (divide and conquer)"
   ]
  },
  {
   "cell_type": "code",
   "execution_count": 7,
   "metadata": {},
   "outputs": [
    {
     "name": "stdout",
     "output_type": "stream",
     "text": [
      "[10, 20, 30, 40, 50, 60, 70, 80, 90]\n"
     ]
    }
   ],
   "source": [
    "def MergeSort(ar, low, high):\n",
    "    if low < high:\n",
    "        mid = int(low + (high - low) / 2)\n",
    "        MergeSort(ar, low, mid)\n",
    "        MergeSort(ar, mid + 1, high)\n",
    "        Merge(ar, low, mid, high)\n",
    "\n",
    "\n",
    "def Merge(ar, low, mid, high):\n",
    "    result_arr = []\n",
    "    i = low\n",
    "    j = mid + 1\n",
    "    while i <= mid and j <= high:\n",
    "        if ar[i] > ar[j]:\n",
    "            result_arr.append(ar[j])\n",
    "            j += 1\n",
    "        else:\n",
    "            result_arr.append(ar[i])\n",
    "            i += 1\n",
    "    while i <= mid: \n",
    "        result_arr.append(ar[i])\n",
    "        i += 1\n",
    "    while j <= high:\n",
    "        result_arr.append(ar[j])\n",
    "        j += 1\n",
    "    for i in range(low, high+1):\n",
    "        ar[i] = result_arr[i - low]\n",
    "\n",
    "\n",
    "ar = [50, 70, 60, 90, 40, 80, 10, 20, 30]\n",
    "MergeSort(ar, 0, len(ar) - 1)\n",
    "print(ar)"
   ]
  },
  {
   "cell_type": "markdown",
   "metadata": {},
   "source": [
    "### Shell Sort O(nlogn)"
   ]
  },
  {
   "cell_type": "code",
   "execution_count": 1,
   "metadata": {},
   "outputs": [
    {
     "name": "stdout",
     "output_type": "stream",
     "text": [
      "[2, 3, 4, 5, 6, 8, 9, 10, 12, 13, 16]\n"
     ]
    }
   ],
   "source": [
    "def shell_sort(ar, size):\n",
    "    gap = int(size / 2)\n",
    "    while gap > 0:\n",
    "        for j in range(gap, size):\n",
    "            i = (j - gap)\n",
    "            while i >= 0 and ar[i] > ar[i + gap]:\n",
    "                swap(ar, i, i + gap)\n",
    "                i = i - gap\n",
    "        gap = int(gap / 2)\n",
    "\n",
    "\n",
    "def swap(arr, i, j):\n",
    "    temp = arr[i]\n",
    "    arr[i] = arr[j]\n",
    "    arr[j] = temp\n",
    "\n",
    "\n",
    "arr = [9, 5, 16, 8, 13, 6, 12, 10, 4, 2, 3]\n",
    "shell_sort(arr, len(arr))\n",
    "print(arr)\n"
   ]
  },
  {
   "cell_type": "code",
   "execution_count": null,
   "metadata": {},
   "outputs": [],
   "source": [
    "# Refer Heap Sort from Heaps Notebook"
   ]
  }
 ],
 "metadata": {
  "kernelspec": {
   "display_name": "Python 3",
   "language": "python",
   "name": "python3"
  },
  "language_info": {
   "codemirror_mode": {
    "name": "ipython",
    "version": 3
   },
   "file_extension": ".py",
   "mimetype": "text/x-python",
   "name": "python",
   "nbconvert_exporter": "python",
   "pygments_lexer": "ipython3",
   "version": "3.11.6"
  }
 },
 "nbformat": 4,
 "nbformat_minor": 4
}
