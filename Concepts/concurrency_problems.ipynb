{
 "cells": [
  {
   "cell_type": "markdown",
   "metadata": {},
   "source": [
    "<h1 align=\"center\">Concurrency Problems</h1>"
   ]
  },
  {
   "cell_type": "code",
   "execution_count": 12,
   "metadata": {},
   "outputs": [],
   "source": [
    "from threading import Thread, Semaphore\n",
    "import time\n",
    "\n",
    "class myThread(Thread):\n",
    "    def __init__(self, func, *args):\n",
    "        Thread.__init__(self)\n",
    "        self.func = func\n",
    "        self.args = args\n",
    "        self.start()\n",
    "    \n",
    "    def run(self):\n",
    "        self.func(*self.args)"
   ]
  },
  {
   "cell_type": "markdown",
   "metadata": {},
   "source": [
    "### Producer Consumer Problem"
   ]
  },
  {
   "cell_type": "code",
   "execution_count": 15,
   "metadata": {},
   "outputs": [
    {
     "name": "stdout",
     "output_type": "stream",
     "text": [
      "Item Produced || BUffer =  1\n",
      "Item Consumed || BUffer =  0\n",
      "Item Produced || BUffer =  1\n",
      "Item Consumed || BUffer =  0\n",
      "Item Produced || BUffer =  1\n",
      "Item Consumed || BUffer =  0\n",
      "Item Produced || BUffer =  1\n",
      "Item Consumed || BUffer =  0\n",
      "Item Produced || BUffer =  1\n",
      "Item Consumed || BUffer =  0\n",
      "Item Produced || BUffer =  1\n",
      "Item Consumed || BUffer =  0\n",
      "Item Produced || BUffer =  1\n",
      "Item Consumed || BUffer =  0\n",
      "Item Produced || BUffer =  1\n",
      "Item Consumed || BUffer =  0\n",
      "Item Produced || BUffer =  1\n",
      "Item Consumed || BUffer =  0\n",
      "Item Produced || BUffer =  1\n",
      "Item Consumed || BUffer =  0\n"
     ]
    }
   ],
   "source": [
    "class ProducerConsumer():\n",
    "    def __init__(self):\n",
    "        self.buff = 0\n",
    "        self.n = 10\n",
    "        self.size = 5\n",
    "        self.mutex = Semaphore(1)\n",
    "        self.full = Semaphore(0)\n",
    "        self.empty = Semaphore(self.size)\n",
    "\n",
    "    def produce(self):\n",
    "        for _ in range(self.n):\n",
    "            self.empty.acquire()\n",
    "            self.mutex.acquire()\n",
    "            self.buff+=1\n",
    "            print(\"Item Produced || BUffer = \", self.buff)\n",
    "            self.mutex.release()\n",
    "            self.full.release()\n",
    "            time.sleep(0.2)\n",
    "\n",
    "    def consume(self):\n",
    "        for _ in range(self.n):\n",
    "            self.full.acquire()\n",
    "            self.mutex.acquire()\n",
    "            self.buff -= 1\n",
    "            print(\"Item Consumed || BUffer = \", self.buff)\n",
    "            self.mutex.release()\n",
    "            self.empty.release()\n",
    "            time.sleep(0.2)\n",
    "\n",
    "pc = ProducerConsumer()\n",
    "t2 = myThread(pc.produce)\n",
    "t1 = myThread(pc.consume)\n",
    "t1.start()\n",
    "t2.start()"
   ]
  },
  {
   "cell_type": "markdown",
   "metadata": {},
   "source": [
    "### Reader Writer Problem"
   ]
  },
  {
   "cell_type": "code",
   "execution_count": 16,
   "metadata": {},
   "outputs": [
    {
     "name": "stdout",
     "output_type": "stream",
     "text": [
      "Writing...  \n",
      "Reading .... \n",
      "Reading .... \n",
      "Reading .... \n",
      "Reading .... \n",
      "Writing...  \n",
      "Writing...  \n",
      "Writing...  \n"
     ]
    }
   ],
   "source": [
    "class ReaderWriter:\n",
    "    def __init__(self):\n",
    "        \n",
    "        # if someone have the system .. you cannot write for sure\n",
    "        # that means if there are any readers or if there is even a single writer\n",
    "        self.n = 4\n",
    "        self.readers = Semaphore(0)\n",
    "        self.canWrite = Semaphore(1)\n",
    "        self.mutex = Semaphore(1) # to be applied on readers variable\n",
    "    \n",
    "    def write(self):\n",
    "        for i in range(self.n):\n",
    "            self.canWrite.acquire()\n",
    "            print(\"Writing...  \")\n",
    "            time.sleep(0.5)\n",
    "            self.canWrite.release()\n",
    "            time.sleep(0.5)\n",
    "    \n",
    "    def read(self):\n",
    "        for i in range(self.n):\n",
    "            if self.readers._value == 0:\n",
    "                self.canWrite.acquire()\n",
    "            self.mutex.acquire()\n",
    "            self.readers.release()\n",
    "            self.mutex.release()\n",
    "            print(\"Reading .... \")\n",
    "            time.sleep(0.5)\n",
    "            self.mutex.acquire()\n",
    "            self.readers.acquire()\n",
    "            self.mutex.release()\n",
    "            if self.readers._value == 0:\n",
    "                self.canWrite.release()\n",
    "                \n",
    "rw = ReaderWriter()\n",
    "myThread(rw.write).start()\n",
    "myThread(rw.read).start()\n",
    "        "
   ]
  },
  {
   "cell_type": "markdown",
   "metadata": {},
   "source": [
    "### Dining Philosophers"
   ]
  },
  {
   "cell_type": "code",
   "execution_count": 22,
   "metadata": {},
   "outputs": [
    {
     "name": "stdout",
     "output_type": "stream",
     "text": [
      "Philosopher 0 is eating  .. \n",
      "Philosopher 2 is eating  .. \n",
      "Philosopher 2 is eating  .. Philosopher 0 is eating  .. \n",
      "\n",
      "Philosopher 0 is eating  .. \n",
      "Philosopher 2 is eating  .. \n",
      "Philosopher 0 is eating  .. Philosopher 2 is eating  .. \n",
      "\n",
      "Philosopher 0 is eating  .. Philosopher 2 is eating  .. \n",
      "\n",
      "Philosopher 3 is eating  .. \n",
      "Philosopher 1 is eating  .. \n",
      "Philosopher 3 is eating  .. Philosopher 1 is eating  .. \n",
      "\n",
      "Philosopher 1 is eating  .. Philosopher 3 is eating  .. \n",
      "\n",
      "Philosopher 1 is eating  .. Philosopher 3 is eating  .. \n",
      "\n",
      "Philosopher 3 is eating  .. Philosopher 1 is eating  .. \n",
      "\n",
      "Philosopher 4 is eating  .. \n",
      "Philosopher 4 is eating  .. \n",
      "Philosopher 4 is eating  .. \n",
      "Philosopher 4 is eating  .. \n",
      "Philosopher 4 is eating  .. \n"
     ]
    }
   ],
   "source": [
    "class DiningPhilosopher:\n",
    "    def __init__(self, n):\n",
    "        self.forks = [Semaphore(1) for i in range(5)]\n",
    "        self.lock = Semaphore(4)\n",
    "        self.n = n\n",
    "    def eat(self, phs):\n",
    "        for i in range(self.n):\n",
    "            with self.lock:\n",
    "                with self.forks[phs], self.forks[(phs+1)%5]:\n",
    "                    print(f\"Philosopher {phs} is eating  .. \")\n",
    "                    time.sleep(0.4)\n",
    "     \n",
    "    \n",
    "dp = DiningPhilosopher(5)\n",
    "t = [myThread(dp.eat, i).start() for i in range(5)]\n",
    "\n",
    "    \n",
    "                "
   ]
  },
  {
   "cell_type": "markdown",
   "metadata": {},
   "source": [
    "### Fizz Buzz Multithreaded Leetcode"
   ]
  },
  {
   "cell_type": "code",
   "execution_count": 11,
   "metadata": {},
   "outputs": [
    {
     "name": "stdout",
     "output_type": "stream",
     "text": [
      "1 2 Fizz 4 Buzz "
     ]
    }
   ],
   "source": [
    "class FizzBuzz:\n",
    "    def __init__(self, n: int):\n",
    "        self.n = n\n",
    "        self.f,self.b,self.fb = [Semaphore(0) for _ in range(3)]\n",
    "        self.num = Semaphore(1) # kind of mutex \n",
    "        self.i = 1\n",
    "        \n",
    "    def release(self):\n",
    "        self.i += 1\n",
    "        if self.i > self.n:\n",
    "            self.fb.release()\n",
    "            self.b.release()\n",
    "            self.f.release()\n",
    "            self.num.release()\n",
    "            return\n",
    "        if self.i%3==0 and self.i%5==0:\n",
    "            self.fb.release()\n",
    "        elif self.i%3==0:\n",
    "            self.f.release()\n",
    "        elif self.i%5==0:\n",
    "            self.b.release()\n",
    "        else:\n",
    "            self.num.release()\n",
    "        \n",
    "\n",
    "    # printFizz() outputs \"fizz\"\n",
    "    def fizz(self, action) -> None:\n",
    "        while True:\n",
    "            self.f.acquire()\n",
    "            if self.i > self.n: break\n",
    "            action()\n",
    "            self.release()\n",
    "\n",
    "    # printBuzz() outputs \"buzz\"\n",
    "    def buzz(self, action) -> None:\n",
    "    \twhile True:\n",
    "            self.b.acquire()\n",
    "            if self.i > self.n: break\n",
    "            action()\n",
    "            self.release()\n",
    "\n",
    "    # printFizzBuzz() outputs \"fizzbuzz\"\n",
    "    def fizzbuzz(self, action) -> None:\n",
    "        while True:\n",
    "            self.fb.acquire()\n",
    "            if self.i > self.n: break\n",
    "            action()\n",
    "            self.release()\n",
    "\n",
    "    # printNumber(x) outputs \"x\", where x is an integer.\n",
    "    def number(self, action) -> None:\n",
    "        while True:\n",
    "            self.num.acquire()\n",
    "            if self.i > self.n: break\n",
    "            action(self.i)\n",
    "            self.release()\n",
    "\n",
    "\n",
    "s = FizzBuzz(5)\n",
    "myThread(s.fizz, lambda : print(\"Fizz\", end = \" \"))\n",
    "myThread(s.buzz, lambda : print(\"Buzz\", end = \" \"))\n",
    "myThread(s.fizzbuzz, lambda : print(\"FizzBuzz\", end=\" \"))\n",
    "myThread(s.number, lambda a: print(a, end = \" \"))\n",
    "None"
   ]
  },
  {
   "cell_type": "code",
   "execution_count": null,
   "metadata": {},
   "outputs": [],
   "source": []
  },
  {
   "cell_type": "code",
   "execution_count": 5,
   "metadata": {},
   "outputs": [
    {
     "name": "stdout",
     "output_type": "stream",
     "text": [
      "2.154434690031884\n"
     ]
    }
   ],
   "source": [
    "a = 10\n",
    "ans = 1\n",
    "while True:\n",
    "    temp = ans\n",
    "    ans = (2*ans   + a/ans/ans)/3\n",
    "    if abs(temp - ans) < 0.00001:\n",
    "        break\n",
    "print(ans)"
   ]
  },
  {
   "cell_type": "code",
   "execution_count": 8,
   "metadata": {},
   "outputs": [
    {
     "data": {
      "text/plain": [
       "2.154434690031884"
      ]
     },
     "execution_count": 8,
     "metadata": {},
     "output_type": "execute_result"
    }
   ],
   "source": [
    "10**(1/3)"
   ]
  },
  {
   "cell_type": "code",
   "execution_count": null,
   "metadata": {},
   "outputs": [],
   "source": []
  }
 ],
 "metadata": {
  "kernelspec": {
   "display_name": "Python 3",
   "language": "python",
   "name": "python3"
  },
  "language_info": {
   "codemirror_mode": {
    "name": "ipython",
    "version": 3
   },
   "file_extension": ".py",
   "mimetype": "text/x-python",
   "name": "python",
   "nbconvert_exporter": "python",
   "pygments_lexer": "ipython3",
   "version": "3.9.6"
  },
  "vscode": {
   "interpreter": {
    "hash": "f9e5edc7c461bb44eb923f36908afa42d01f043a516f5f4ab0b7ca4f5e5b5da8"
   }
  }
 },
 "nbformat": 4,
 "nbformat_minor": 4
}
