{
 "cells": [
  {
   "cell_type": "markdown",
   "metadata": {},
   "source": [
    "### Finding LCM of 2 Numbers"
   ]
  },
  {
   "cell_type": "code",
   "execution_count": 1,
   "metadata": {},
   "outputs": [],
   "source": [
    "# LCM(Lowest common Multiple)\n",
    "# 6 == 6,12,18,(24),30,36,42,(48)\n",
    "# 8 == 8,16,(24),32,40,(48)\n",
    "\n",
    "# Refer Sourabh Shukla Video \n",
    "def LCMofTwo(a, b):\n",
    "    h = max(a,b)\n",
    "    lcm = h\n",
    "    while(lcm <= a*b):\n",
    "        if lcm%a == 0  and lcm%b == 0:\n",
    "            return lcm\n",
    "        lcm = lcm + h"
   ]
  },
  {
   "cell_type": "code",
   "execution_count": 2,
   "metadata": {},
   "outputs": [
    {
     "name": "stdout",
     "output_type": "stream",
     "text": [
      "24\n"
     ]
    }
   ],
   "source": [
    "print(LCMofTwo(6,8))"
   ]
  },
  {
   "cell_type": "markdown",
   "metadata": {},
   "source": [
    "### Finding GCD/HCF of 2 Numbers"
   ]
  },
  {
   "cell_type": "code",
   "execution_count": 3,
   "metadata": {},
   "outputs": [],
   "source": [
    "# GCD(greatest Common Divisor)\n",
    "# Refer Sourabh Shukla Video\n",
    "# This is a Brute Force Approach\n",
    "def GCDofTwo(a, b):\n",
    "    low = min(a,b)\n",
    "    if low==0: #that means one of them is zero :: gcd(0 ,b) = b because 0 is disisible by any number\n",
    "        return max(a,b)\n",
    "    \n",
    "    hcf = low\n",
    "    while hcf >= 1:\n",
    "        if a%hcf == 0 and b%hcf == 0:\n",
    "            return hcf\n",
    "        hcf-=1\n",
    "    "
   ]
  },
  {
   "cell_type": "code",
   "execution_count": 8,
   "metadata": {},
   "outputs": [
    {
     "name": "stdout",
     "output_type": "stream",
     "text": [
      "8\n"
     ]
    }
   ],
   "source": [
    "print(GCDofTwo(8,1000))"
   ]
  },
  {
   "cell_type": "markdown",
   "metadata": {},
   "source": [
    "### Finding GCD using Euclids Algo (Refer GeeksForGeeks)"
   ]
  },
  {
   "cell_type": "code",
   "execution_count": 9,
   "metadata": {},
   "outputs": [
    {
     "name": "stdout",
     "output_type": "stream",
     "text": [
      "12\n"
     ]
    }
   ],
   "source": [
    "# RECURSIVE WAY (easy to understand) (Refer GeeksForGeeks)\n",
    "def gcd(a , b):\n",
    "    if a == 0:\n",
    "        return b\n",
    "    if b == 0:\n",
    "        return a\n",
    "    if a>b:\n",
    "        return gcd(a%b, b)\n",
    "    else:\n",
    "        return gcd(b%a, a)\n",
    "print(gcd(36,60))"
   ]
  },
  {
   "cell_type": "code",
   "execution_count": 12,
   "metadata": {},
   "outputs": [
    {
     "name": "stdout",
     "output_type": "stream",
     "text": [
      "12\n"
     ]
    }
   ],
   "source": [
    "# ITERATIVE WAY\n",
    "def gcd_iter(a ,b):\n",
    "    small = min(a,b)\n",
    "    while(small != 0):\n",
    "        if a>b:\n",
    "            a = a%b\n",
    "        else:\n",
    "            b = b%a\n",
    "        small = min(a ,b)\n",
    "    if a==0:\n",
    "        return b\n",
    "    return a\n",
    "\n",
    "print(gcd_iter(36,60))\n",
    "        "
   ]
  },
  {
   "cell_type": "code",
   "execution_count": 14,
   "metadata": {},
   "outputs": [
    {
     "name": "stdout",
     "output_type": "stream",
     "text": [
      "12\n"
     ]
    }
   ],
   "source": [
    "# Same Above Recursive Euclidean method in few Lines\n",
    "def gcd_recursive(a,b):\n",
    "    if a== 0:\n",
    "        return b\n",
    "    return gcd_recursive(b%a, a)\n",
    "print(gcd_recursive(36,60))"
   ]
  },
  {
   "cell_type": "markdown",
   "metadata": {},
   "source": [
    "### Extended Euclidean Algorithm"
   ]
  },
  {
   "cell_type": "markdown",
   "metadata": {},
   "source": [
    "##### Finding x and y such that ax + by  = gcd(a,b) where a,b,x,y are integers"
   ]
  },
  {
   "cell_type": "code",
   "execution_count": 43,
   "metadata": {},
   "outputs": [
    {
     "name": "stdout",
     "output_type": "stream",
     "text": [
      "(-57, 0, 1)\n"
     ]
    },
    {
     "data": {
      "text/plain": [
       "(57, 1, 0)"
      ]
     },
     "execution_count": 43,
     "metadata": {},
     "output_type": "execute_result"
    }
   ],
   "source": [
    "# Refer Youtube for this algorithm\n",
    "# ax + by = gcd(a,b)\n",
    "def extended_GCD(a , b):\n",
    "    # BASE CASE\n",
    "    if b==0:\n",
    "        return (a, 1, 0)\n",
    "    \n",
    "    # Recursive java threading Calls\n",
    "    gcd,c,d = extended_GCD(b, a%b)    # 57,0\n",
    "    return (gcd,d, c - (a//b)*d)  #(0, 1)\n",
    "\n",
    "\n",
    "print(extended_GCD(0, -57))\n"
   ]
  },
  {
   "cell_type": "markdown",
   "metadata": {},
   "source": [
    "### Steins Algorithm to find GCD"
   ]
  },
  {
   "cell_type": "code",
   "execution_count": 64,
   "metadata": {},
   "outputs": [
    {
     "data": {
      "text/plain": [
       "5"
      ]
     },
     "execution_count": 64,
     "metadata": {},
     "output_type": "execute_result"
    }
   ],
   "source": []
  },
  {
   "cell_type": "markdown",
   "metadata": {},
   "source": [
    "### LCM of given array of elements."
   ]
  },
  {
   "cell_type": "code",
   "execution_count": 61,
   "metadata": {},
   "outputs": [
    {
     "data": {
      "text/plain": [
       "1"
      ]
     },
     "execution_count": 61,
     "metadata": {},
     "output_type": "execute_result"
    }
   ],
   "source": []
  }
 ],
 "metadata": {
  "kernelspec": {
   "display_name": "Python 3",
   "language": "python",
   "name": "python3"
  },
  "language_info": {
   "codemirror_mode": {
    "name": "ipython",
    "version": 3
   },
   "file_extension": ".py",
   "mimetype": "text/x-python",
   "name": "python",
   "nbconvert_exporter": "python",
   "pygments_lexer": "ipython3",
   "version": "3.7.6"
  }
 },
 "nbformat": 4,
 "nbformat_minor": 4
}
