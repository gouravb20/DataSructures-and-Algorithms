{
 "cells": [
  {
   "cell_type": "markdown",
   "metadata": {},
   "source": [
    "#### Binary Exponentiation also called Fast Exponentiation\n",
    "Finding Power(x,n) in log(n) time"
   ]
  },
  {
   "cell_type": "code",
   "execution_count": 1,
   "metadata": {},
   "outputs": [
    {
     "name": "stdout",
     "output_type": "stream",
     "text": [
      "32768\n",
      "128\n"
     ]
    }
   ],
   "source": [
    "\n",
    "\n",
    "#Recursively takes stack space\n",
    "# Iterative mathod is more stable and preferrable \n",
    "def pow_rec(x,n):\n",
    "    if n == 0:\n",
    "        return 1\n",
    "    if n%2 == 0:\n",
    "        return pow((x*x), n//2)\n",
    "    else:\n",
    "        return pow(x*x,n//2)*x\n",
    "print(pow_rec(2,15))\n",
    "\n",
    "def pow_iter(x,n):  # Iterative method more preferrable\n",
    "    if n == 0:\n",
    "        return 1\n",
    "    \n",
    "    res = 1\n",
    "    while n!=1:\n",
    "        if n%2 == 1: # if n is odd\n",
    "            res = res*x\n",
    "        x = x*x\n",
    "        n = n//2\n",
    "    return res*x\n",
    "print(pow_iter(2,7))\n"
   ]
  },
  {
   "cell_type": "markdown",
   "metadata": {},
   "source": [
    "#### Random Mood(Matrix Exponentiation)\n",
    "Codeforces Problem-A by Errichto(Youtube)"
   ]
  },
  {
   "cell_type": "code",
   "execution_count": 3,
   "metadata": {},
   "outputs": [
    {
     "name": "stdout",
     "output_type": "stream",
     "text": [
      "5 0.3\n",
      "0.50512\n",
      "0.50512\n"
     ]
    }
   ],
   "source": [
    "# its a matrix exponentiation problem\n",
    "#Limak is always either happy or sad.\n",
    "#His mood switches with probability p every second. \n",
    "#If Limak is happy right now, what is the probability that he's happy after n seconds?\n",
    "# First I am solving it recursively O(logn)\n",
    "x = input().split()\n",
    "[n,p] = [int(x[0]), float(x[1])]\n",
    "def p_happy(n, p):\n",
    "    if n==1:\n",
    "        return 1-p\n",
    "    if n%2 == 1:\n",
    "        s = p_happy(n//2, p)  #s is p_happy after n//2 states\n",
    "        t = s*(1-p) + (1-s)*p  # t is p_happy after (n//2 + 1) states\n",
    "        \n",
    "        return s*t + (1-t)*(1-s)\n",
    "    else:\n",
    "        s = p_happy(n//2, p)\n",
    "        return s*s + (1-s)*(1-s)\n",
    "\n",
    "print(p_happy(n,p))\n",
    "\n",
    "def phappy_iter(n, p): # p is the probability that mood changes\n",
    "    if n == 0:\n",
    "        return 1\n",
    "    phappy = 1.0\n",
    "    while(n!=1):\n",
    "        if n%2 == 1:\n",
    "            phappy = phappy*(1-p) + (1 - phappy)*p\n",
    "        p = 2*p*(1-p)  #finding p2 at first loop then we will be finding p4 in the next loop\n",
    "        n=n//2\n",
    "        \n",
    "    return (1-p)*phappy + (1-phappy)*p\n",
    "\n",
    "print(phappy_iter(n,p))"
   ]
  },
  {
   "cell_type": "markdown",
   "metadata": {},
   "source": [
    "#### MATRIX EXPONENTIATION\n",
    "Codeforces Problem-B by Errichto(Youtube)"
   ]
  },
  {
   "cell_type": "code",
   "execution_count": 4,
   "metadata": {},
   "outputs": [
    {
     "name": "stdout",
     "output_type": "stream",
     "text": [
      "4\n",
      "226291\n"
     ]
    }
   ],
   "source": [
    "# happy -> happy = 19\n",
    "# happy ->sad = 7\n",
    "# sad -> happy = 6\n",
    "# sad -> sad  = 20\n",
    "\n",
    "# So matrix will be [[19, 7],\n",
    "#                    [6, 20]] \n",
    "# To find no. of strings of length N such that he remains happy to happy we will calculate M^n\n",
    "n = int(input())\n",
    "M = [[19,7],[6,20]]\n",
    "def matrix_multiply(A, B): # A and B are square matrices\n",
    "    n = len(A)\n",
    "    C = [[0 for i in range(n)] for j in range(n)]\n",
    "    for i in range(n):\n",
    "        for j in range(n):\n",
    "            for k in range(n):\n",
    "                C[i][j] += (A[i][k]%1000000007)*(B[k][j]%1000000007)\n",
    "            C[i][j] = C[i][j]%1000000007\n",
    "    return C\n",
    "            \n",
    "\n",
    " # iterative way only, recursive way will take a lot of space as there are matrices involved\n",
    "def power_matrix(M, n):  # M is a square matrix \n",
    "    if n==1:\n",
    "        return M\n",
    "    size = len(M)\n",
    "    C = [[0 if x!=y else 1 for x in range(size)] for y in range(size)]  # making an identity matrix\n",
    "    while n>1:\n",
    "        if n%2==1:\n",
    "            C = matrix_multiply(C, M)\n",
    "        M = matrix_multiply(M,M)\n",
    "        n=n//2\n",
    "    return matrix_multiply(C,M)\n",
    "print(power_matrix(M,n)[0][0])## returning the number of strings that makes him happy from happy\n",
    "\n"
   ]
  },
  {
   "cell_type": "markdown",
   "metadata": {},
   "source": [
    "## Very Important:\n",
    "#### Matrix Exponentiation is a tool to speed up the dp using constant space\n",
    "if using dp it takes it takes O(n) time then it will reduce it to O(log(n))"
   ]
  },
  {
   "cell_type": "markdown",
   "metadata": {},
   "source": [
    "#### Finding nth fibonacci in O(logn) using matrix exponentiation\n",
    "Codeforces Problem-C by Errichto(Youtube)"
   ]
  },
  {
   "cell_type": "code",
   "execution_count": 38,
   "metadata": {},
   "outputs": [
    {
     "name": "stdout",
     "output_type": "stream",
     "text": [
      "8\n",
      "21\n"
     ]
    }
   ],
   "source": [
    "# (fn fn-1)  = [[1,1],\n",
    "#               [1,0]]  (f0, f1)\n",
    "n = int(input())\n",
    "\n",
    "def matrix_multiply(A, B): # A and B are matrices\n",
    "    n1 = len(A)\n",
    "    m1= len(A[0])\n",
    "    n2 = len(B)\n",
    "    m2 = len(B[0])\n",
    "    if m1!=n2: # Matrices cannot be multiplied\n",
    "        return False\n",
    "    \n",
    "    C = [[0 for i in range(m2)] for j in range(n1)] \n",
    "    for i in range(n1):# for each row in A  \n",
    "        for j in range(m2):# for each column in B \n",
    "            for k in range(m1): #multiply all the elements and take sum\n",
    "                C[i][j] += (A[i][k]%1000000007)*(B[k][j]%1000000007)\n",
    "            C[i][j] = C[i][j]%1000000007\n",
    "    return C\n",
    "\n",
    "def fib(n):\n",
    "    if n==0:\n",
    "        return 0\n",
    "    if n==1:\n",
    "        return 1\n",
    "    M = [[1,1],\n",
    "         [1,0]]\n",
    "    C = [[1,0],[0,1]] #identity matrix\n",
    "    # we have to find M^(n-1)\n",
    "    n = n-1\n",
    "    while(n>1):\n",
    "        if n%2 == 1:\n",
    "            C = matrix_multiply(C,M)\n",
    "        M = matrix_multiply(M,M)\n",
    "        n = n//2\n",
    "        \n",
    "        \n",
    "    M = matrix_multiply(M,C)\n",
    "    return M[0][0]\n",
    "print(fib(n))\n",
    "        "
   ]
  },
  {
   "cell_type": "markdown",
   "metadata": {},
   "source": [
    "#### Codeforces Problem-D by Errichto(Youtube)"
   ]
  },
  {
   "cell_type": "code",
   "execution_count": 68,
   "metadata": {},
   "outputs": [
    {
     "name": "stdout",
     "output_type": "stream",
     "text": [
      "3 4 2\n",
      "1 2\n",
      "2 3\n",
      "3 1\n",
      "2 1\n",
      "5\n"
     ]
    }
   ],
   "source": [
    "\n",
    "mod = 1000000007\n",
    "n,m,k = (int(a) for a in input().split())\n",
    "M = [[0 for i in range(n+1)] for j in range(n+1)]\n",
    "for i in range(m):\n",
    "    a,b = (int(x) for x in input().split())\n",
    "    M[a][b] = 1\n",
    "\n",
    "def matrix_multiply(A, B): # A and B are matrices\n",
    "    global mod\n",
    "    n1 = len(A)\n",
    "    m1= len(A[0])\n",
    "    n2 = len(B)\n",
    "    m2 = len(B[0])\n",
    "    if m1!=n2: # Matrices cannot be multiplied\n",
    "        return False\n",
    "    \n",
    "    C = [[0 for i in range(m2)] for j in range(n1)] \n",
    "    for i in range(n1):# for each row in A  \n",
    "        for j in range(m2):# for each column in B \n",
    "            for k in range(m1): #multiply all the elements and take sum\n",
    "                if C[i][j] > 8*mod*mod:\n",
    "                    C[i][j] -= 8*mod*mod\n",
    "                C[i][j] += (A[i][k])*(B[k][j])\n",
    "            C[i][j] = C[i][j]%mod\n",
    "    return C\n",
    "def sumofallelements(M):\n",
    "    n = len(M)\n",
    "    sum = 0\n",
    "    for i in range(n):\n",
    "        for j in range(n):\n",
    "            sum += (M[i][j]%1000000007)\n",
    "    return sum%1000000007\n",
    "            \n",
    "def paths(M,k):\n",
    "    n = len(M)\n",
    "    C = [[0 if x!=y else 1 for x in range(n)] for y in range(n)]\n",
    "    while(k>1):\n",
    "        if k%2==1:\n",
    "\n",
    "print(paths(M,k))\n",
    "                        C = matrix_multiply(C,M)\n",
    "        M = matrix_multiply(M,M)\n",
    "        k=k//2\n",
    "\n",
    "        \n",
    "    C = matrix_multiply(C,M)\n",
    "    return sumofallelements(C)\n"
   ]
  },
  {
   "cell_type": "code",
   "execution_count": null,
   "metadata": {},
   "outputs": [],
   "source": []
  }
 ],
 "metadata": {
  "kernelspec": {
   "display_name": "Python 3",
   "language": "python",
   "name": "python3"
  },
  "language_info": {
   "codemirror_mode": {
    "name": "ipython",
    "version": 3
   },
   "file_extension": ".py",
   "mimetype": "text/x-python",
   "name": "python",
   "nbconvert_exporter": "python",
   "pygments_lexer": "ipython3",
   "version": "3.9.6"
  }
 },
 "nbformat": 4,
 "nbformat_minor": 4
}
