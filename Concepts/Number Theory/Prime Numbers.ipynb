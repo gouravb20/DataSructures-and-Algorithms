{
 "cells": [
  {
   "cell_type": "markdown",
   "source": [
    "### Seives of Eratosthenes"
   ],
   "metadata": {}
  },
  {
   "cell_type": "code",
   "execution_count": 23,
   "source": [
    "# Python program to print all primes smaller than or equal to \n",
    "# n using Sieve of Eratosthenes \n",
    "  \n",
    "def SieveOfEratosthenes(n):  \n",
    "    prime = [True for i in range(n+1)] \n",
    "    p = 2\n",
    "    while (p * p <= n): # running loop upto sqrt(n)\n",
    "        \n",
    "        if (prime[p] == True): # if it is a prime number then do following \n",
    "            for i in range(p * p, n+1, p): # Update all multiples of p to False\n",
    "                prime[i] = False\n",
    "        p += 1\n",
    "      \n",
    "    # Print all prime numbers\n",
    "    \n",
    "    primes = []\n",
    "    for p in range(2, n+1): \n",
    "        if prime[p]: \n",
    "            primes.append(p)\n",
    "    return primes\n",
    "n = 120\n",
    "print(SieveOfEratosthenes(n) )"
   ],
   "outputs": [
    {
     "output_type": "stream",
     "name": "stdout",
     "text": [
      "[2, 3, 5, 7, 11, 13, 17, 19, 23, 29, 31, 37, 41, 43, 47, 53, 59, 61, 67, 71, 73, 79, 83, 89, 97, 101, 103, 107, 109, 113]\n"
     ]
    }
   ],
   "metadata": {}
  },
  {
   "cell_type": "markdown",
   "source": [
    "### Segmented Seive"
   ],
   "metadata": {}
  },
  {
   "cell_type": "code",
   "execution_count": 25,
   "source": [
    "# Refer Coding ninjas segmented seive video\n",
    " # You have to find prime numbers in the range L to U\n",
    "import math\n",
    "def segmented_sieve(L, U):\n",
    "    primes = SieveOfEratosthenes(math.ceil(math.sqrt(U)))  # will return all the prime numbers upto sqrt(U)\n",
    "    res = [True for x in range(U-L+1)]\n",
    "    \n",
    "    for i in primes:\n",
    "        base = (L//i)*i   # this is done to find multiple of i which is nearest to L\n",
    "        if base < L: # as res array is form L to U,we wil have to increase it by i\n",
    "            base += i\n",
    "        if base == i:  #  if base is already the same prime number then we would not want mark a prime number(i) as False\n",
    "            base += i\n",
    "        while base <= U:\n",
    "            res[base - L] = False\n",
    "            base += i\n",
    "            \n",
    "    for i in range(U-L+1):\n",
    "        if res[i] == True:\n",
    "            print(L+i, end=\" \")\n",
    "            \n",
    "    return\n",
    "\n",
    "segmented_sieve(7,120)\n",
    "    \n",
    "    "
   ],
   "outputs": [
    {
     "output_type": "stream",
     "name": "stdout",
     "text": [
      "7 11 13 17 19 23 29 31 37 41 43 47 53 59 61 67 71 73 79 83 89 97 101 103 107 109 113 "
     ]
    }
   ],
   "metadata": {}
  },
  {
   "cell_type": "markdown",
   "source": [
    "### Finding Prime Factors of a Number (O(sqrt(n))\n",
    "CLAIM: if N is **composite number** then there is atleat 1 prime divisor of N below **sqrt(N)**"
   ],
   "metadata": {}
  },
  {
   "cell_type": "code",
   "execution_count": 31,
   "source": [
    "\n",
    "import math\n",
    "def primefactors(n):\n",
    "    pfactors = []\n",
    "    i = 2\n",
    "     # runs SQRT(n) times only which also changes as n becomes n/i \n",
    "    for i in range(2,math.ceil(math.sqrt(n))):   # Brute force approach will be running this loop total n times where n doesnt change\n",
    "        flag = 0\n",
    "        while n%i==0:\n",
    "            n = n//i    # n changes therefore sqrt(n) also changes in the above loop\n",
    "            flag += 1\n",
    "        if flag:\n",
    "            pfactors.append((i,flag))\n",
    "    if n>1: #if the last only prime factor is left we will include that one also\n",
    "        pfactors.append((n,1))\n",
    "    return pfactors\n",
    "\n",
    "primefactors(364)       \n",
    "\n",
    "        "
   ],
   "outputs": [
    {
     "output_type": "execute_result",
     "data": {
      "text/plain": [
       "[(2, 2), (7, 1), (13, 1)]"
      ]
     },
     "metadata": {},
     "execution_count": 31
    }
   ],
   "metadata": {}
  },
  {
   "cell_type": "markdown",
   "source": [
    "### Prime Factors of a number using Sieve in O(log(n)) [APPROX]  time\n",
    "#### This is a very good method in case you need to find prime factors of many numbers at the same time\n",
    "But here you will have to create a sieve of size n which will take **O(nloglogn)** time after that it will take O(logn) time only to find prime factors of any number in 2 - n range"
   ],
   "metadata": {}
  },
  {
   "cell_type": "code",
   "execution_count": null,
   "source": [
    "# Here we will create sieve in a little different way\n",
    "# Instead of taking bool array we will store numbers in it\n",
    "# Initially we will store -1 at all the values from 2 to n\n",
    "# Refer COde N Code Number THeroy Playlist (L05)\n",
    "# while visiting all the elements,\n",
    "#   -- if it is a prime number we will mark all multiples of it (only if -1 previously) with the prime number only\n",
    "# Now that your sieve have been created, to find prime facotrs of any number, we will go to that number in the array\n",
    "#  store A[i] in results, then gotoi = i/A[i]  and again store the result until i becomes 1.\n",
    "# Code will be written later"
   ],
   "outputs": [],
   "metadata": {}
  },
  {
   "cell_type": "markdown",
   "source": [
    "### Finding Square root of a Number"
   ],
   "metadata": {}
  },
  {
   "cell_type": "code",
   "execution_count": 1,
   "source": [
    "# Called Newton Raphson Method/// BEST WAY \n",
    "# At average this method takes O(logN)\n",
    "\n",
    "import math\n",
    "n = 23049234\n",
    "sq =1  # you can take it as any positive number\n",
    "for i in range(n): #at every step sq will be more closure to sqrt(n)\n",
    "    temp = sq\n",
    "    sq = (sq + n/sq)/2\n",
    "    if temp  == sq:\n",
    "        break\n",
    "print(sq, \"  \",i,\"  \", math.log(n))\n",
    "print(math.sqrt(n))"
   ],
   "outputs": [
    {
     "output_type": "stream",
     "name": "stdout",
     "text": [
      "4800.961778643941    17    16.95314309475061\n",
      "4800.961778643942\n"
     ]
    }
   ],
   "metadata": {}
  },
  {
   "cell_type": "markdown",
   "source": [
    "#### Square root can be calculated using Binary Search"
   ],
   "metadata": {}
  },
  {
   "cell_type": "code",
   "execution_count": 21,
   "source": [
    "# At first, we will calculate the first digit\n",
    "# then we will calculate all the decimal values one by one\n",
    "import math\n",
    "def squareroot(n,p): # where p is precison\n",
    "    start = 0\n",
    "    end = n\n",
    "    mid = (end + start)//2\n",
    "    res = \"\"\n",
    "    ans = 0\n",
    "    while(end>=start):\n",
    "        if mid*mid > n:\n",
    "            end = mid - 1\n",
    "        elif mid*mid < n:\n",
    "            ans = mid\n",
    "            start = mid + 1\n",
    "        else:\n",
    "            return mid\n",
    "        mid = start + (end - start)//2\n",
    "        \n",
    "    res = res + \"{}\".format(ans)\n",
    "    decimal = 1\n",
    "    for i in range(p):\n",
    "        decimal = 0.1*decimal\n",
    "        for i in range(10):\n",
    "            if (ans+decimal)*(ans+decimal) > n:\n",
    "                break\n",
    "            ans = ans + decimal\n",
    "    return ans\n",
    "    \n",
    "            \n",
    "        \n",
    "    \n",
    "print(squareroot(17,15),math.sqrt(17))\n",
    "    "
   ],
   "outputs": [
    {
     "output_type": "stream",
     "name": "stdout",
     "text": [
      "4.123105625617661 4.123105625617661\n"
     ]
    }
   ],
   "metadata": {}
  },
  {
   "cell_type": "code",
   "execution_count": 3,
   "source": [
    "s = [1,2,3,4,5,6,7]\n",
    "s = (filter(lambda a:a%2 == 0 ,s))"
   ],
   "outputs": [],
   "metadata": {}
  },
  {
   "cell_type": "code",
   "execution_count": 12,
   "source": [
    "s = [1,2,3,4]"
   ],
   "outputs": [],
   "metadata": {}
  }
 ],
 "metadata": {
  "kernelspec": {
   "name": "python396jvsc74a57bd0149f9e1c0eaf228ce40adcf341242d37daba9ec0d661e97126ae7b1159194402",
   "display_name": "Python 3.9.6 64-bit ('base': venv)",
   "language": "python"
  },
  "language_info": {
   "codemirror_mode": {
    "name": "ipython",
    "version": 3
   },
   "file_extension": ".py",
   "mimetype": "text/x-python",
   "name": "python",
   "nbconvert_exporter": "python",
   "pygments_lexer": "ipython3",
   "version": "3.9.6"
  },
  "interpreter": {
   "hash": "149f9e1c0eaf228ce40adcf341242d37daba9ec0d661e97126ae7b1159194402"
  }
 },
 "nbformat": 4,
 "nbformat_minor": 4
}