{
 "cells": [
  {
   "cell_type": "markdown",
   "metadata": {},
   "source": [
    "#### Rolling Hash"
   ]
  },
  {
   "cell_type": "code",
   "execution_count": null,
   "metadata": {},
   "outputs": [],
   "source": [
    "from functools import reduce\n",
    "M = 1<<63 - 1\n",
    "B = 131\n",
    "\n",
    "# def mod(a,b): # we dont need this function in python, we need it in other languages\n",
    "#     return ((a%b)+b)%b\n",
    "\n",
    "def RollingHash(text: str) -> int:\n",
    "    n = len(text)\n",
    "    B = 31\n",
    "    M = 10**9 + 9\n",
    "    E = (B**n)%M\n",
    "\n",
    "    # Id should never be 0 or negative, always > 0\n",
    "    def id(c):\n",
    "        return ord(c) - ord('a') + 1\n",
    "\n",
    "    # Precalculate hashes of all prefixes and then we can get hash of any substring in O(1)\n",
    "    hashes = [0]\n",
    "    powers = [1]\n",
    "    for x in text:\n",
    "        hashes.append((hashes[-1]*B + id(x))%M)\n",
    "        powers.append((powers[-1]*B)%M)\n",
    "\n",
    "    # O(1) function to calculate hash of substring\n",
    "    # [l, r)  --> r is exclusive\n",
    "    def hash(l, r):\n",
    "        return ((hashes[r] - hashes[l]*powers[r-l])*E)%M\n",
    "    \n",
    "    # shortcut to calculate hash of whole string\n",
    "    def hashString(s):\n",
    "        return reduce(lambda x,y: (x*B  + y)%M, s, 0)\n",
    "    "
   ]
  },
  {
   "cell_type": "markdown",
   "metadata": {},
   "source": [
    "#### KMP Algorithm"
   ]
  },
  {
   "cell_type": "code",
   "execution_count": 8,
   "metadata": {},
   "outputs": [
    {
     "name": "stdout",
     "output_type": "stream",
     "text": [
      "True\n"
     ]
    }
   ],
   "source": [
    "s = \"ababacabcabababacd\"\n",
    "p = \"ababac\"\n",
    "\n",
    "\n",
    "# create lps array which is a prefix array which stores the length of the longest proper prefix which is also a suffix\n",
    "def createLps(p):\n",
    "    m= len(p)\n",
    "    lps = [0]*m\n",
    "    j = 0\n",
    "    for i in range(1,m):\n",
    "        while j and p[i]!=p[j]: j = lps[j-1]\n",
    "        j = lps[i] = j + (p[i]==p[j])\n",
    "    return lps\n",
    "\n",
    "def match(s, p):\n",
    "    return len(p) in createLps(p + \"#\" + s)\n",
    "\n",
    "print(match(s, p))"
   ]
  },
  {
   "cell_type": "markdown",
   "metadata": {},
   "source": [
    "#### Z function\n",
    "Suppose we are given a string $s$ of length $n$. The **Z-function** for this string is an array of length $n$ where the $i$-th element is equal to the greatest number of characters starting from the position $i$ that coincide with the first characters of $s$.\n",
    "\n",
    "#####  In other words, for each $i$ , Z-function calculates the length of longest common prefix between s[0:] and s[i:]"
   ]
  },
  {
   "cell_type": "code",
   "execution_count": 7,
   "metadata": {},
   "outputs": [
    {
     "name": "stdout",
     "output_type": "stream",
     "text": [
      "[0, 0, 3, 0, 1, 0, 0, 6, 0, 3, 0, 1, 0, 2, 0, 0, 5, 0, 6, 0, 3, 0, 1, 0, 0]\n"
     ]
    }
   ],
   "source": [
    "# Watch Youtube Video to understand this algorithm\n",
    "\n",
    "# Z algorithm works by defining a Z-Box (window) between [l, r) where r is exclusive\n",
    "# in this window, we already did the string matching with s[0:]\n",
    "\n",
    "def z_function(s):\n",
    "    n = len(s)\n",
    "    z = [0]*n\n",
    "    l=r=0\n",
    "    for i in range(1,n):\n",
    "        if i<r:\n",
    "            z[i] = min(z[i-l], r-i)\n",
    "        while i+z[i] < n and s[i+z[i]] == s[z[i]]:\n",
    "            z[i]+=1\n",
    "        if i+z[i]>r:\n",
    "            l,r = i, i+z[i]\n",
    "    return z\n",
    "\n",
    "s = \"ababacabcabababacd\"\n",
    "p = \"ababac\"\n",
    "\n",
    "print(z_function(p + \"#\" + s)) \n",
    "        \n"
   ]
  },
  {
   "cell_type": "code",
   "execution_count": null,
   "metadata": {},
   "outputs": [],
   "source": []
  }
 ],
 "metadata": {
  "kernelspec": {
   "display_name": "pybase",
   "language": "python",
   "name": "python3"
  },
  "language_info": {
   "codemirror_mode": {
    "name": "ipython",
    "version": 3
   },
   "file_extension": ".py",
   "mimetype": "text/x-python",
   "name": "python",
   "nbconvert_exporter": "python",
   "pygments_lexer": "ipython3",
   "version": "3.12.2"
  }
 },
 "nbformat": 4,
 "nbformat_minor": 4
}
